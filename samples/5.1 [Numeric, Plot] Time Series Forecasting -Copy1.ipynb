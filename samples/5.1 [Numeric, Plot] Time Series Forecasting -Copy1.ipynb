{
 "cells": [
  {
   "cell_type": "markdown",
   "metadata": {},
   "source": [
    "# Time Series Forecasting with NimbusML"
   ]
  },
  {
   "cell_type": "markdown",
   "metadata": {},
   "source": [
    "This tutorial is an introduction to time series forecasting.\n",
    "\n",
    "This class implements the general anomaly detection transform based on [Singular Spectrum Analysis (SSA)](https://en.wikipedia.org/wiki/Singular_spectrum_analysis). SSA is a powerful framework for decomposing the time-series into trend, seasonality and noise components as well as forecasting the future values of the time-series. In principle, SSA performs spectral analysis on the input time-series where each component in the spectrum corresponds to a trend, seasonal or noise component in the time-series. For details of the Singular Spectrum Analysis (SSA), refer to this [document](https://arxiv.org/pdf/1206.6910.pdf)."
   ]
  },
  {
   "cell_type": "code",
   "execution_count": 61,
   "metadata": {},
   "outputs": [],
   "source": [
    "# --------------------------------------------------------------------------------------------\n",
    "# Copyright (c) Microsoft Corporation. All rights reserved.\n",
    "# Licensed under the MIT License.\n",
    "# --------------------------------------------------------------------------------------------"
   ]
  },
  {
   "cell_type": "code",
   "execution_count": 1,
   "metadata": {},
   "outputs": [],
   "source": [
    "import os\n",
    "import pandas as pdThis tutorial is an introduction to time series forecasting.\n",
    "\n",
    "This class implements the general anomaly detection transform based on [Singular Spectrum Analysis (SSA)](https://en.wikipedia.org/wiki/Singular_spectrum_analysis). SSA is a powerful framework for decomposing the time-series into trend, seasonality and noise components as well as forecasting the future values of the time-series. In principle, SSA performs spectral analysis on the input time-series where each component in the spectrum corresponds to a trend, seasonal or noise component in the time-series. For details of the Singular Spectrum Analysis (SSA), refer to this [document](https://arxiv.org/pdf/1206.6910.pdf).\n",
    "import numpy as np\n",
    "import matplotlib as mpl\n",
    "import matplotlib.pyplot as plt\n",
    "import random\n",
    "from nimbusml import Pipeline\n",
    "from nimbusml.timeseries import SsaForecaster\n",
    "from sklearn.metrics import mean_absolute_error, mean_squared_error\n",
    "from math import sqrt\n",
    "\n",
    "mpl.rcParams['figure.figsize'] = (8, 6)\n",
    "mpl.rcParams['axes.grid'] = False"
   ]
  },
  {
   "cell_type": "markdown",
   "metadata": {},
   "source": [
    "## The Weather Dataset\n",
    "\n",
    "This tutorial uses a [weather time series dataset](https://www.bgc-jena.mpg.de/wetter/) recorded by the [Max-Planck-Institute for Biogeochemistry](https://www.bgc-jena.mpg.de/index.php/Main/HomePage).\n",
    "\n",
    "This dataset contains 14 different features such as air temperature, atmospheric pressure, and humidity. These were collected every 10 minutes, beginning in 2003. For efficiency, we will use only the data collected between 2009 and 2016 to predict future air temperature. This section of the dataset was prepared by François Chollet for his book Deep Learning with Python."
   ]
  },
  {
   "cell_type": "code",
   "execution_count": 2,
   "metadata": {
    "scrolled": true
   },
   "outputs": [],
   "source": [
    "# Load image summary data from github\n",
    "url_to_csv = \"https://raw.githubusercontent.com/mstfbl/NimbusML-Samples/masterEe/datasets/max_planck_weather_time_series_dataset.csv\"\n",
    "df_train = pd.read_csv(filepath_or_buffer=url_to_csv, sep = \",\",)"
   ]
  },
  {
   "cell_type": "markdown",
   "metadata": {},
   "source": [
    "Let's look at our data."
   ]
  },
  {
   "cell_type": "code",
   "execution_count": 4,
   "metadata": {
    "scrolled": true
   },
   "outputs": [
    {
     "data": {
      "text/html": [
       "<div>\n",
       "<style scoped>\n",
       "    .dataframe tbody tr th:only-of-type {\n",
       "        vertical-align: middle;\n",
       "    }\n",
       "\n",
       "    .dataframe tbody tr th {\n",
       "        vertical-align: top;\n",
       "    }\n",
       "\n",
       "    .dataframe thead th {\n",
       "        text-align: right;\n",
       "    }\n",
       "</style>\n",
       "<table border=\"1\" class=\"dataframe\">\n",
       "  <thead>\n",
       "    <tr style=\"text-align: right;\">\n",
       "      <th></th>\n",
       "      <th>Date Time</th>\n",
       "      <th>p (mbar)</th>\n",
       "      <th>T (degC)</th>\n",
       "      <th>Tpot (K)</th>\n",
       "      <th>Tdew (degC)</th>\n",
       "      <th>rh (%)</th>\n",
       "      <th>VPmax (mbar)</th>\n",
       "      <th>VPact (mbar)</th>\n",
       "      <th>VPdef (mbar)</th>\n",
       "      <th>sh (g/kg)</th>\n",
       "      <th>H2OC (mmol/mol)</th>\n",
       "      <th>rho (g/m**3)</th>\n",
       "      <th>wv (m/s)</th>\n",
       "      <th>max. wv (m/s)</th>\n",
       "      <th>wd (deg)</th>\n",
       "    </tr>\n",
       "  </thead>\n",
       "  <tbody>\n",
       "    <tr>\n",
       "      <td>0</td>\n",
       "      <td>01.01.2009 00:10:00</td>\n",
       "      <td>996.52</td>\n",
       "      <td>-8.02</td>\n",
       "      <td>265.40</td>\n",
       "      <td>-8.90</td>\n",
       "      <td>93.3</td>\n",
       "      <td>3.33</td>\n",
       "      <td>3.11</td>\n",
       "      <td>0.22</td>\n",
       "      <td>1.94</td>\n",
       "      <td>3.12</td>\n",
       "      <td>1307.75</td>\n",
       "      <td>1.03</td>\n",
       "      <td>1.75</td>\n",
       "      <td>152.3</td>\n",
       "    </tr>\n",
       "    <tr>\n",
       "      <td>1</td>\n",
       "      <td>01.01.2009 00:20:00</td>\n",
       "      <td>996.57</td>\n",
       "      <td>-8.41</td>\n",
       "      <td>265.01</td>\n",
       "      <td>-9.28</td>\n",
       "      <td>93.4</td>\n",
       "      <td>3.23</td>\n",
       "      <td>3.02</td>\n",
       "      <td>0.21</td>\n",
       "      <td>1.89</td>\n",
       "      <td>3.03</td>\n",
       "      <td>1309.80</td>\n",
       "      <td>0.72</td>\n",
       "      <td>1.50</td>\n",
       "      <td>136.1</td>\n",
       "    </tr>\n",
       "    <tr>\n",
       "      <td>2</td>\n",
       "      <td>01.01.2009 00:30:00</td>\n",
       "      <td>996.53</td>\n",
       "      <td>-8.51</td>\n",
       "      <td>264.91</td>\n",
       "      <td>-9.31</td>\n",
       "      <td>93.9</td>\n",
       "      <td>3.21</td>\n",
       "      <td>3.01</td>\n",
       "      <td>0.20</td>\n",
       "      <td>1.88</td>\n",
       "      <td>3.02</td>\n",
       "      <td>1310.24</td>\n",
       "      <td>0.19</td>\n",
       "      <td>0.63</td>\n",
       "      <td>171.6</td>\n",
       "    </tr>\n",
       "    <tr>\n",
       "      <td>3</td>\n",
       "      <td>01.01.2009 00:40:00</td>\n",
       "      <td>996.51</td>\n",
       "      <td>-8.31</td>\n",
       "      <td>265.12</td>\n",
       "      <td>-9.07</td>\n",
       "      <td>94.2</td>\n",
       "      <td>3.26</td>\n",
       "      <td>3.07</td>\n",
       "      <td>0.19</td>\n",
       "      <td>1.92</td>\n",
       "      <td>3.08</td>\n",
       "      <td>1309.19</td>\n",
       "      <td>0.34</td>\n",
       "      <td>0.50</td>\n",
       "      <td>198.0</td>\n",
       "    </tr>\n",
       "    <tr>\n",
       "      <td>4</td>\n",
       "      <td>01.01.2009 00:50:00</td>\n",
       "      <td>996.51</td>\n",
       "      <td>-8.27</td>\n",
       "      <td>265.15</td>\n",
       "      <td>-9.04</td>\n",
       "      <td>94.1</td>\n",
       "      <td>3.27</td>\n",
       "      <td>3.08</td>\n",
       "      <td>0.19</td>\n",
       "      <td>1.92</td>\n",
       "      <td>3.09</td>\n",
       "      <td>1309.00</td>\n",
       "      <td>0.32</td>\n",
       "      <td>0.63</td>\n",
       "      <td>214.3</td>\n",
       "    </tr>\n",
       "  </tbody>\n",
       "</table>\n",
       "</div>"
      ],
      "text/plain": [
       "             Date Time  p (mbar)  T (degC)  Tpot (K)  Tdew (degC)  rh (%)  \\\n",
       "0  01.01.2009 00:10:00    996.52     -8.02    265.40        -8.90    93.3   \n",
       "1  01.01.2009 00:20:00    996.57     -8.41    265.01        -9.28    93.4   \n",
       "2  01.01.2009 00:30:00    996.53     -8.51    264.91        -9.31    93.9   \n",
       "3  01.01.2009 00:40:00    996.51     -8.31    265.12        -9.07    94.2   \n",
       "4  01.01.2009 00:50:00    996.51     -8.27    265.15        -9.04    94.1   \n",
       "\n",
       "   VPmax (mbar)  VPact (mbar)  VPdef (mbar)  sh (g/kg)  H2OC (mmol/mol)  \\\n",
       "0          3.33          3.11          0.22       1.94             3.12   \n",
       "1          3.23          3.02          0.21       1.89             3.03   \n",
       "2          3.21          3.01          0.20       1.88             3.02   \n",
       "3          3.26          3.07          0.19       1.92             3.08   \n",
       "4          3.27          3.08          0.19       1.92             3.09   \n",
       "\n",
       "   rho (g/m**3)  wv (m/s)  max. wv (m/s)  wd (deg)  \n",
       "0       1307.75      1.03           1.75     152.3  \n",
       "1       1309.80      0.72           1.50     136.1  \n",
       "2       1310.24      0.19           0.63     171.6  \n",
       "3       1309.19      0.34           0.50     198.0  \n",
       "4       1309.00      0.32           0.63     214.3  "
      ]
     },
     "execution_count": 4,
     "metadata": {},
     "output_type": "execute_result"
    }
   ],
   "source": [
    "df_train.head()"
   ]
  },
  {
   "cell_type": "markdown",
   "metadata": {},
   "source": [
    "Here, we can see that a recording is made every 10 minutes. So for a single hour, there are 6 recordings. This means there are 144 (6 * 24) recordings per week, 1008 (144 * 7) recordings per week, around 30,240 (144 * 7 * 30) recordings per month, and around 362,880 (30,240 * 12) recordings per year.\n",
    "\n",
    "To predict one or more time-steps into the future, we will make use of the recordings. For example, to predict 6 hours into the future, we will utilize the immediate previous recordings in our dataset."
   ]
  },
  {
   "cell_type": "code",
   "execution_count": 5,
   "metadata": {},
   "outputs": [],
   "source": [
    "def univariate_data(dataset, start_index, end_index, history_size, target_size):\n",
    "  data = []\n",
    "  labels = []\n",
    "\n",
    "  start_index = start_index + history_size\n",
    "  if end_index is None:\n",
    "    end_index = len(dataset) - target_size\n",
    "\n",
    "  for i in range(staLet's look at our data.rt_index, end_index):\n",
    "    indices = range(i-history_size, i)\n",
    "    # Reshape data from (history_size,) to (history_size, 1)\n",
    "    data.append(np.reshape(dataset[indices], (history_size, 1)))\n",
    "    labels.append(dataset[i+target_size])\n",
    "  return np.array(data), np.array(labels)"
   ]
  },
  {
   "cell_type": "code",
   "execution_count": 6,
   "metadata": {},
   "outputs": [],
   "source": [
    "TRAIN_SPLIT = 300000"
   ]
  },
  {
   "cell_type": "markdown",
   "metadata": {},
   "source": [
    "## Single-step prediction\n",
    "\n",
    "For the first part of this tutorial, we will train our SSA Forecaster model on past air temperature data to predict one time-step into the future. We first start by extracting temperature data from our dataset."
   ]
  },
  {
   "cell_type": "code",
   "execution_count": 7,
   "metadata": {},
   "outputs": [
    {
     "data": {
      "text/plain": [
       "Date Time\n",
       "01.01.2009 00:10:00   -8.02\n",
       "01.01.2009 00:20:00   -8.41\n",
       "01.01.2009 00:30:00   -8.51\n",
       "01.01.2009 00:40:00   -8.31\n",
       "01.01.2009 00:50:00   -8.27\n",
       "Name: T (degC), dtype: float64"
      ]
     },
     "execution_count": 7,
     "metadata": {},
     "output_type": "execute_result"
    }
   ],
   "source": [
    "data_univariate = df_train['T (degC)']\n",
    "data_univariate.index = df_train['Date Time']\n",
    "data_univariate.head()"
   ]
  },
  {
   "cell_type": "markdown",
   "metadata": {},
   "source": [
    "Let's look at the entire temperature dataset we have. Notice the cycles that occur around every year, and how these cycles repeat across time."
   ]
  },
  {
   "cell_type": "code",
   "execution_count": 8,
   "metadata": {
    "scrolled": true
   },
   "outputs": [
    {
     "data": {
      "text/plain": [
       "array([<matplotlib.axes._subplots.AxesSubplot object at 0x0000028D1AEA00B8>],\n",
       "      dtype=object)"
      ]
     },
     "execution_count": 8,
     "metadata": {},
     "output_type": "execute_result"
    },
    {
     "data": {
      "image/png": "[encoded data removed]",
      "text/plain": [
       "<Figure size 432x288 with 1 Axes>"
      ]
     },
     "metadata": {
      "needs_background": "light"
     },
     "output_type": "display_data"
    }
   ],
   "source": [
    "data_univariate.plot(subplots=True)"
   ]
  },
  {
   "cell_type": "markdown",
   "metadata": {},
   "source": [
    "Let's look at the entire temperature dataset we have. Notice the cycles that occur around every year, and how these cycles repeat across time."
   ]
  },
  {
   "cell_type": "code",
   "execution_count": 9,
   "metadata": {},
   "outputs": [],
   "source": [
    "data_univariate = data_univariate.values\n",
    "data_univariate_mean = data_univariate[:TRAIN_SPLIT].mean()\n",
    "data_univariate_std = data_univariate[:TRAIN_SPLIT].std()\n",
    "data_univariate = (data_univariate-data_univariate_mean)/data_univariate_std"
   ]
  },
  {
   "cell_type": "code",
   "execution_count": 10,
   "metadata": {},
   "outputs": [],
   "source": [
    "univariate_past_history = 21\n",
    "univariate_future_target = 0\n",
    "\n",
    "x_train_uni, y_train_uni = univariate_data(data_univariate, 0, TRAIN_SPLIT,\n",
    "                                           univariate_past_history,\n",
    "                                           univariate_future_target)\n",
    "x_val_uni, y_val_uni = univariate_data(data_univariate, TRAIN_SPLIT, None,\n",
    "                                       univariate_past_history,\n",
    "                                       univariate_future_target)"
   ]
  },
  {
   "cell_type": "code",
   "execution_count": 11,
   "metadata": {},
   "outputs": [
    {
     "name": "stdout",
     "output_type": "stream",
     "text": [
      "120530\n"
     ]
    }
   ],
   "source": [
    "print(len(x_val_uni))"
   ]
  },
  {
   "cell_type": "code",
   "execution_count": 12,
   "metadata": {},
   "outputs": [
    {
     "name": "stdout",
     "output_type": "stream",
     "text": [
      "Single window of past history\n",
      "[[-1.99766294]\n",
      " [-2.04281897]\n",
      " [-2.05439744]\n",
      " [-2.0312405 ]\n",
      " [-2.02660912]\n",
      " [-2.00113649]\n",
      " [-1.95134907]\n",
      " [-1.95134907]\n",
      " [-1.98492663]\n",
      " [-2.04513467]\n",
      " [-2.08334362]\n",
      " [-2.09723778]\n",
      " [-2.09376424]\n",
      " [-2.09144854]\n",
      " [-2.07176515]\n",
      " [-2.07176515]\n",
      " [-2.07639653]\n",
      " [-2.08913285]\n",
      " [-2.09260639]\n",
      " [-2.10418486]\n",
      " [-2.10418486]]\n",
      "\n",
      " Target temperature to predict\n",
      "-2.0949220845536356\n"
     ]
    }
   ],
   "source": [
    "print ('Single window of past history')\n",
    "print (x_train_uni[0])\n",
    "print ('\\n Target temperature to predict')\n",
    "print (y_train_uni[0])"
   ]
  },
  {
   "cell_type": "code",
   "execution_count": 13,
   "metadata": {},
   "outputs": [],
   "source": [
    "def create_time_steps(length):\n",
    "  time_steps = []\n",
    "  for i in range(-length, 0, 1):\n",
    "    time_steps.append(i)\n",
    "  return time_steps"
   ]
  },
  {
   "cell_type": "code",
   "execution_count": 14,
   "metadata": {},
   "outputs": [],
   "source": [
    "def show_plot(plot_data, delta, title):\n",
    "  labels = ['History', 'True Future', 'Model Prediction']\n",
    "  marker = ['.-', 'rx', 'go']\n",
    "  time_steps = create_time_steps(plot_data[0].shape[0])\n",
    "  if delta:\n",
    "    future = delta\n",
    "  else:\n",
    "    future = 0\n",
    "\n",
    "  plt.title(title)\n",
    "  for i, x in enumerate(plot_data):\n",
    "    if i:\n",
    "      plt.plot(future, plot_data[i], marker[i], markersize=10,\n",
    "               label=labels[i])\n",
    "    else:\n",
    "      plt.plot(time_steps, plot_data[i].flatten(), marker[i], label=labels[i])\n",
    "  plt.legend()\n",
    "  plt.xlim([time_steps[0], (future+5)*2])\n",
    "  plt.xlabel('Time-Step')\n",
    "  return plt"
   ]
  },
  {
   "cell_type": "code",
   "execution_count": 15,
   "metadata": {
    "scrolled": true
   },
   "outputs": [
    {
     "data": {
      "text/plain": [
       "<module 'matplotlib.pyplot' from 'C:\\\\Users\\\\mubal\\\\AppData\\\\Roaming\\\\Python\\\\Python36\\\\site-packages\\\\matplotlib\\\\pyplot.py'>"
      ]
     },
     "execution_count": 15,
     "metadata": {},
     "output_type": "execute_result"
    },
    {
     "data": {
      "image/png": "[encoded data removed]",
      "text/plain": [
       "<Figure size 432x288 with 1 Axes>"
      ]
     },
     "metadata": {
      "needs_background": "light"
     },
     "output_type": "display_data"
    }
   ],
   "source": [
    "show_plot([x_train_uni[0], y_train_uni[0]], 0, 'Sample Example')"
   ]
  },
  {
   "cell_type": "code",
   "execution_count": 16,
   "metadata": {},
   "outputs": [],
   "source": [
    "def baseline(history):\n",
    "  return np.mean(history)"
   ]
  },
  {
   "cell_type": "code",
   "execution_count": 17,
   "metadata": {
    "scrolled": true
   },
   "outputs": [
    {
     "data": {
      "text/plain": [
       "<module 'matplotlib.pyplot' from 'C:\\\\Users\\\\mubal\\\\AppData\\\\Roaming\\\\Python\\\\Python36\\\\site-packages\\\\matplotlib\\\\pyplot.py'>"
      ]
     },
     "execution_count": 17,
     "metadata": {},
     "output_type": "execute_result"
    },
    {
     "data": {
      "image/png": "[encoded data removed]",
      "text/plain": [
       "<Figure size 432x288 with 1 Axes>"
      ]
     },
     "metadata": {
      "needs_background": "light"
     },
     "output_type": "display_data"
    }
   ],
   "source": [
    "#print(x_train_uni[0])\n",
    "#print(y_train_uni[0])\n",
    "#print(baseline(x_train_uni[0]))\n",
    "#print(x_train_uni.shape[-2:])\n",
    "show_plot([x_train_uni[0], y_train_uni[0], baseline(x_train_uni[0])], 0, 'Baseline Prediction Example')"
   ]
  },
  {
   "cell_type": "code",
   "execution_count": 18,
   "metadata": {},
   "outputs": [],
   "source": [
    "x_val_uni_list = [x[0] for x in x_val_uni[0].tolist()]\n",
    "X_val_ssa = pd.Series(x_val_uni_list, name=\"T (degC)\")\n",
    "#print(X_val_ssa)\n",
    "#print(len(x_train_uni[0])) #almost 2100 days worth of data\n",
    "x_train_uni_list_big = x_train_uni.flatten()\n",
    "X_train_ssa_big = pd.Series(x_train_uni_list_big, name=\"T (degC)\")\n",
    "#print(X_train_ssa_big.head())"
   ]
  },
  {
   "cell_type": "code",
   "execution_count": 19,
   "metadata": {},
   "outputs": [],
   "source": [
    "#seasonality_size = 52560 # 365 (length of season in days) * 144 (with 10 minute interval samples, 144 samples in one day)\n",
    "#training_seasons = 749950 #roughly 8 seasons displayed in entire dataset, so len(X_train_ssa_big) / 8\n",
    "#training_size = seasonality_size * training_seasons\n",
    "#pipeline = Pipeline([\n",
    "#    SsaForecaster(series_length= 449996, #arbitrary for now\n",
    "#                  train_size= training_size,\n",
    "#                  window_size= seasonality_size + 1,\n",
    "#                  horizon=3,\n",
    "#                  columns={'T (degC)_fc': 'T (degC)'})\n",
    "#])"
   ]
  },
  {
   "cell_type": "code",
   "execution_count": 20,
   "metadata": {},
   "outputs": [],
   "source": [
    "# Parameters to be tuned later\n",
    "pipeline = Pipeline([\n",
    "    SsaForecaster(series_length=6,\n",
    "                  train_size=20,\n",
    "                  window_size=3,\n",
    "                  horizon=1,\n",
    "                  columns={'T (degC)_fc': 'T (degC)'})\n",
    "])"
   ]
  },
  {
   "cell_type": "code",
   "execution_count": 21,
   "metadata": {},
   "outputs": [
    {
     "name": "stdout",
     "output_type": "stream",
     "text": [
      "6299559\n",
      "Elapsed time: 00:00:00.6647938\n",
      "0         -1.997663\n",
      "1         -2.042819\n",
      "2         -2.054397\n",
      "3         -2.031241\n",
      "4         -2.026609\n",
      "             ...   \n",
      "6299554    0.652649\n",
      "6299555    0.652649\n",
      "6299556    0.648017\n",
      "6299557    0.644544\n",
      "6299558    0.644544\n",
      "Name: T (degC), Length: 6299559, dtype: float64\n"
     ]
    }
   ],
   "source": [
    "print(len(X_train_ssa_big))\n",
    "pipeline.fit(X_train_ssa_big)\n",
    "print(X_train_ssa_big)"
   ]
  },
  {
   "cell_type": "code",
   "execution_count": 22,
   "metadata": {
    "scrolled": false
   },
   "outputs": [
    {
     "data": {
      "image/png": "[encoded data removed]",
      "text/plain": [
       "<Figure size 432x288 with 1 Axes>"
      ]
     },
     "metadata": {
      "needs_background": "light"
     },
     "output_type": "display_data"
    }
   ],
   "source": [
    "predicted_val_uni = pipeline.transform(X_val_ssa)\n",
    "predicted_val = predicted_val_uni['T (degC)_fc.0'][20]\n",
    "plot = show_plot([x_val_uni[0], y_val_uni[0], predicted_val], 0, 'Single-step SSA Forecaster model')\n",
    "plot.show()"
   ]
  },
  {
   "cell_type": "code",
   "execution_count": 23,
   "metadata": {
    "scrolled": true
   },
   "outputs": [],
   "source": [
    "pd.set_option('display.float_format', lambda x: '%.2f' % x)"
   ]
  },
  {
   "cell_type": "code",
   "execution_count": 24,
   "metadata": {},
   "outputs": [
    {
     "data": {
      "image/png": "[encoded data removed]",
      "text/plain": [
       "<Figure size 432x288 with 1 Axes>"
      ]
     },
     "metadata": {
      "needs_background": "light"
     },
     "output_type": "display_data"
    },
    {
     "name": "stdout",
     "output_type": "stream",
     "text": [
      "Absolute Percentage Error: 0.19276763070832698%%\n"
     ]
    },
    {
     "data": {
      "image/png": "[encoded data removed]",
      "text/plain": [
       "<Figure size 432x288 with 1 Axes>"
      ]
     },
     "metadata": {
      "needs_background": "light"
     },
     "output_type": "display_data"
    },
    {
     "name": "stdout",
     "output_type": "stream",
     "text": [
      "Absolute Percentage Error: 9.839462362162594%%\n"
     ]
    },
    {
     "data": {
      "image/png": "[encoded data removed]",
      "text/plain": [
       "<Figure size 432x288 with 1 Axes>"
      ]
     },
     "metadata": {
      "needs_background": "light"
     },
     "output_type": "display_data"
    },
    {
     "name": "stdout",
     "output_type": "stream",
     "text": [
      "Absolute Percentage Error: 5.258218012180816%%\n"
     ]
    }
   ],
   "source": [
    "random_is = np.random.randint(len(x_val_uni), size=3)\n",
    "for i in random_is:\n",
    "    # Predicting\n",
    "    x_val_uni_list = [x[0] for x in x_val_uni[i].tolist()]\n",
    "    X_val_ssa = pd.Series(x_val_uni_list, name=\"T (degC)\")\n",
    "    predicted_val_uni = pipeline.transform(X_val_ssa)\n",
    "    predicted_val = predicted_val_uni['T (degC)_fc.0'][19]\n",
    "    plot = show_plot([x_val_uni[i], y_val_uni[i], predicted_val], 0, 'Single-step SSA Forecaster model')\n",
    "    plot.show()\n",
    "    # Performace\n",
    "    # mean absolute percentage error = mean(((y_true - y_pred) / y_true)) * 100)\n",
    "    abe = abs(((y_val_uni[i] - predicted_val) / y_val_uni[i]) * 100)\n",
    "    print(\"Absolute Percentage Error: {}%%\".format(abe))"
   ]
  },
  {
   "cell_type": "code",
   "execution_count": 25,
   "metadata": {},
   "outputs": [
    {
     "name": "stderr",
     "output_type": "stream",
     "text": [
      "ERROR - Internal Python error in the inspect module.\n",
      "Below is the traceback from this internal error.\n",
      "\n"
     ]
    },
    {
     "name": "stdout",
     "output_type": "stream",
     "text": [
      "Traceback (most recent call last):\n",
      "  File \"C:\\Users\\mubal\\AppData\\Roaming\\Python\\Python36\\site-packages\\IPython\\core\\interactiveshell.py\", line 3326, in run_code\n",
      "    exec(code_obj, self.user_global_ns, self.user_ns)\n",
      "  File \"<ipython-input-25-a387449dab1a>\", line 9, in <module>\n",
      "    predicted_val_uni = pipeline.transform(X_val_ssa)\n",
      "  File \"C:\\Users\\mubal\\AppData\\Roaming\\Python\\Python36\\site-packages\\nimbusml\\internal\\utils\\utils.py\", line 220, in wrapper\n",
      "    params = func(*args, **kwargs)\n",
      "  File \"C:\\Users\\mubal\\AppData\\Roaming\\Python\\Python36\\site-packages\\nimbusml\\pipeline.py\", line 2283, in transform\n",
      "    **params)\n",
      "  File \"C:\\Users\\mubal\\AppData\\Roaming\\Python\\Python36\\site-packages\\nimbusml\\internal\\utils\\entrypoints.py\", line 438, in run\n",
      "    output_modelfilename)\n",
      "  File \"C:\\Users\\mubal\\AppData\\Roaming\\Python\\Python36\\site-packages\\nimbusml\\internal\\utils\\entrypoints.py\", line 274, in _try_call_bridge\n",
      "    ret = px_call(call_parameters)\n",
      "KeyboardInterrupt\n",
      "\n",
      "During handling of the above exception, another exception occurred:\n",
      "\n",
      "Traceback (most recent call last):\n",
      "  File \"C:\\Users\\mubal\\AppData\\Roaming\\Python\\Python36\\site-packages\\IPython\\core\\interactiveshell.py\", line 2040, in showtraceback\n",
      "    stb = value._render_traceback_()\n",
      "AttributeError: 'KeyboardInterrupt' object has no attribute '_render_traceback_'\n",
      "\n",
      "During handling of the above exception, another exception occurred:\n",
      "\n",
      "Traceback (most recent call last):\n",
      "  File \"C:\\Users\\mubal\\AppData\\Roaming\\Python\\Python36\\site-packages\\IPython\\core\\ultratb.py\", line 1101, in get_records\n",
      "    return _fixed_getinnerframes(etb, number_of_lines_of_context, tb_offset)\n",
      "  File \"C:\\Users\\mubal\\AppData\\Roaming\\Python\\Python36\\site-packages\\IPython\\core\\ultratb.py\", line 319, in wrapped\n",
      "    return f(*args, **kwargs)\n",
      "  File \"C:\\Users\\mubal\\AppData\\Roaming\\Python\\Python36\\site-packages\\IPython\\core\\ultratb.py\", line 353, in _fixed_getinnerframes\n",
      "    records = fix_frame_records_filenames(inspect.getinnerframes(etb, context))\n",
      "  File \"C:\\Program Files (x86)\\Microsoft Visual Studio\\Shared\\Python36_64\\lib\\inspect.py\", line 1483, in getinnerframes\n",
      "    frameinfo = (tb.tb_frame,) + getframeinfo(tb, context)\n",
      "  File \"C:\\Program Files (x86)\\Microsoft Visual Studio\\Shared\\Python36_64\\lib\\inspect.py\", line 1441, in getframeinfo\n",
      "    filename = getsourcefile(frame) or getfile(frame)\n",
      "  File \"C:\\Program Files (x86)\\Microsoft Visual Studio\\Shared\\Python36_64\\lib\\inspect.py\", line 696, in getsourcefile\n",
      "    if getattr(getmodule(object, filename), '__loader__', None) is not None:\n",
      "  File \"C:\\Program Files (x86)\\Microsoft Visual Studio\\Shared\\Python36_64\\lib\\inspect.py\", line 739, in getmodule\n",
      "    f = getabsfile(module)\n",
      "  File \"C:\\Program Files (x86)\\Microsoft Visual Studio\\Shared\\Python36_64\\lib\\inspect.py\", line 708, in getabsfile\n",
      "    _filename = getsourcefile(object) or getfile(object)\n",
      "  File \"C:\\Program Files (x86)\\Microsoft Visual Studio\\Shared\\Python36_64\\lib\\inspect.py\", line 693, in getsourcefile\n",
      "    if os.path.exists(filename):\n",
      "  File \"C:\\Program Files (x86)\\Microsoft Visual Studio\\Shared\\Python36_64\\lib\\genericpath.py\", line 19, in exists\n",
      "    os.stat(path)\n",
      "KeyboardInterrupt\n"
     ]
    },
    {
     "ename": "KeyboardInterrupt",
     "evalue": "",
     "output_type": "error",
     "traceback": [
      "\u001b[1;31m---------------------------------------------------------------------------\u001b[0m"
     ]
    }
   ],
   "source": [
    "#Performance testing for 1000 random single-step SSA Forecasts\n",
    "num_predictions = 1000\n",
    "random_is = np.random.randint(len(x_val_uni), size=num_predictions)\n",
    "mapes = [-1 for _ in range(num_predictions)]\n",
    "for c, i in enumerate(random_is):\n",
    "    # Predicting\n",
    "    x_val_uni_list = [x[0] for x in x_val_uni[i].tolist()]\n",
    "    X_val_ssa = pd.Series(x_val_uni_list, name=\"T (degC)\")\n",
    "    predicted_val_uni = pipeline.transform(X_val_ssa)\n",
    "    predicted_val = predicted_val_uni['T (degC)_fc.0'][19]\n",
    "    # Performace\n",
    "    # mean absolute percentage error = mean(((y_true - y_pred) / y_true)) * 100)\n",
    "    mapes[c] = abs(y_val_uni[i] - predicted_val) / abs(y_val_uni[i]) * 100\n",
    "print(\"Mean absolute percentage error of {} samples for single-Step SSA forecasting: {}%.\".format(len(mapes), np.mean(mapes)))"
   ]
  },
  {
   "cell_type": "code",
   "execution_count": null,
   "metadata": {},
   "outputs": [],
   "source": [
    "#Validating on the entire validation dataset of size 119759 data points, \n",
    "print(\"Size of training dataset for SSA Single-Step Forecasting on NimbusML: {}.\".format(len(x_train_uni)))\n",
    "print(\"Size of validation dataset for SSA Single-Step Forecasting on NimbusML: {}.\".format(len(x_val_uni)))\n",
    "mapes_total = 0\n",
    "iter_count = 0\n",
    "for i in range(len(x_val_uni)):\n",
    "    # Predicting\n",
    "    x_val_uni_list = [x[0] for x in x_val_uni[i].tolist()]\n",
    "    X_val_ssa = pd.Series(x_val_uni_list, name=\"T (degC)\")\n",
    "    predicted_val_uni = pipeline.transform(X_val_ssa)\n",
    "    predicted_val = predicted_val_uni['T (degC)_fc.0'][19]\n",
    "    # Performace\n",
    "    # mean absolute percentage error = mean(((y_true - y_pred) / y_true)) * 100)\n",
    "    mapesTotal += abs(y_val_uni[i] - predicted_val) / abs(y_val_uni[i])\n",
    "    if iter_count % 1000 == 0:\n",
    "        print(\"Iteration {}/{} - Current MAPE: {}%\".format(iter_count, len(x_val_uni), mapes_total*100/iter_count))\n",
    "    iter_count += 1\n",
    "print(\"Mean absolute percentage error of {} samples for single-Step SSA forecasting: {}%.\".format(len(mapes), mapes_total*100/iter_count))"
   ]
  },
  {
   "cell_type": "markdown",
   "metadata": {},
   "source": [
    "**Multi-step prediction**"
   ]
  },
  {
   "cell_type": "code",
   "execution_count": 26,
   "metadata": {},
   "outputs": [],
   "source": [
    "features_considered = ['T (degC)']"
   ]
  },
  {
   "cell_type": "code",
   "execution_count": 27,
   "metadata": {},
   "outputs": [
    {
     "data": {
      "text/html": [
       "<div>\n",
       "<style scoped>\n",
       "    .dataframe tbody tr th:only-of-type {\n",
       "        vertical-align: middle;\n",
       "    }\n",
       "\n",
       "    .dataframe tbody tr th {\n",
       "        vertical-align: top;\n",
       "    }\n",
       "\n",
       "    .dataframe thead th {\n",
       "        text-align: right;\n",
       "    }\n",
       "</style>\n",
       "<table border=\"1\" class=\"dataframe\">\n",
       "  <thead>\n",
       "    <tr style=\"text-align: right;\">\n",
       "      <th></th>\n",
       "      <th>T (degC)</th>\n",
       "    </tr>\n",
       "    <tr>\n",
       "      <th>Date Time</th>\n",
       "      <th></th>\n",
       "    </tr>\n",
       "  </thead>\n",
       "  <tbody>\n",
       "    <tr>\n",
       "      <td>01.01.2009 00:10:00</td>\n",
       "      <td>-8.02</td>\n",
       "    </tr>\n",
       "    <tr>\n",
       "      <td>01.01.2009 00:20:00</td>\n",
       "      <td>-8.41</td>\n",
       "    </tr>\n",
       "    <tr>\n",
       "      <td>01.01.2009 00:30:00</td>\n",
       "      <td>-8.51</td>\n",
       "    </tr>\n",
       "    <tr>\n",
       "      <td>01.01.2009 00:40:00</td>\n",
       "      <td>-8.31</td>\n",
       "    </tr>\n",
       "    <tr>\n",
       "      <td>01.01.2009 00:50:00</td>\n",
       "      <td>-8.27</td>\n",
       "    </tr>\n",
       "  </tbody>\n",
       "</table>\n",
       "</div>"
      ],
      "text/plain": [
       "                     T (degC)\n",
       "Date Time                    \n",
       "01.01.2009 00:10:00     -8.02\n",
       "01.01.2009 00:20:00     -8.41\n",
       "01.01.2009 00:30:00     -8.51\n",
       "01.01.2009 00:40:00     -8.31\n",
       "01.01.2009 00:50:00     -8.27"
      ]
     },
     "execution_count": 27,
     "metadata": {},
     "output_type": "execute_result"
    }
   ],
   "source": [
    "features = df_train[features_considered]\n",
    "features.index = df_train['Date Time']\n",
    "features.head()"
   ]
  },
  {
   "cell_type": "code",
   "execution_count": 28,
   "metadata": {},
   "outputs": [
    {
     "data": {
      "text/plain": [
       "array([<matplotlib.axes._subplots.AxesSubplot object at 0x0000028D2A7EA160>],\n",
       "      dtype=object)"
      ]
     },
     "execution_count": 28,
     "metadata": {},
     "output_type": "execute_result"
    },
    {
     "data": {
      "image/png": "[encoded data removed]",
      "text/plain": [
       "<Figure size 432x288 with 1 Axes>"
      ]
     },
     "metadata": {
      "needs_background": "light"
     },
     "output_type": "display_data"
    }
   ],
   "source": [
    "features.plot(subplots=True)"
   ]
  },
  {
   "cell_type": "code",
   "execution_count": 29,
   "metadata": {},
   "outputs": [],
   "source": [
    "dataset = features.values\n",
    "data_mean = dataset[:TRAIN_SPLIT].mean(axis=0)\n",
    "data_std = dataset[:TRAIN_SPLIT].std(axis=0)"
   ]
  },
  {
   "cell_type": "code",
   "execution_count": 30,
   "metadata": {
    "scrolled": true
   },
   "outputs": [],
   "source": [
    "dataset = (dataset-data_mean)/data_std"
   ]
  },
  {
   "cell_type": "code",
   "execution_count": 31,
   "metadata": {},
   "outputs": [],
   "source": [
    "def multivariate_data(dataset, target, start_index, end_index, history_size,\n",
    "                      target_size, step, single_step=False):\n",
    "  data = []\n",
    "  labels = []\n",
    "\n",
    "  start_index = start_index + history_size\n",
    "  if end_index is None:\n",
    "    end_index = len(dataset) - target_size\n",
    "\n",
    "  for i in range(start_index, end_index):\n",
    "    indices = range(i-history_size, i, step)\n",
    "    data.append(dataset[indices])\n",
    "\n",
    "    if single_step:\n",
    "      labels.append(target[i+target_size])\n",
    "    else:\n",
    "      labels.append(target[i:i+target_size])\n",
    "\n",
    "  return np.array(data), np.array(labels)"
   ]
  },
  {
   "cell_type": "code",
   "execution_count": null,
   "metadata": {},
   "outputs": [],
   "source": [
    "past_history = 720\n",
    "future_target = 72\n",
    "STEP = 6\n",
    "x_train_multi, y_train_multi = multivariate_data(dataset, dataset[:, 0], 0,\n",
    "                                                 TRAIN_SPLIT, past_history,\n",
    "                                                 future_target, STEP)\n",
    "x_val_multi, y_val_multi = multivariate_data(dataset, dataset[:, 0],\n",
    "                                             TRAIN_SPLIT, None, past_history,\n",
    "                                             future_target, STEP)"
   ]
  },
  {
   "cell_type": "code",
   "execution_count": 32,
   "metadata": {},
   "outputs": [],
   "source": [
    "def plot_train_history(history, title):\n",
    "  loss = history.history['loss']\n",
    "  val_loss = history.history['val_loss']\n",
    "\n",
    "  epochs = range(len(loss))\n",
    "\n",
    "  plt.figure()\n",
    "\n",
    "  plt.plot(epochs, loss, 'b', label='Training loss')\n",
    "  plt.plot(epochs, val_loss, 'r', label='Validation loss')\n",
    "  plt.title(title)\n",
    "  plt.legend()\n",
    "\n",
    "  plt.show()"
   ]
  },
  {
   "cell_type": "code",
   "execution_count": 33,
   "metadata": {},
   "outputs": [],
   "source": [
    "def multi_step_plot(history, true_future, prediction):\n",
    "  plt.figure(figsize=(12, 6))\n",
    "  num_in = create_time_steps(len(history))\n",
    "  num_out = len(true_future)\n",
    "\n",
    "  plt.plot(num_in, np.array(history[:, 0]), label='History')\n",
    "  plt.plot(np.arange(num_out)/STEP, np.array(true_future), 'bo',\n",
    "           label='True Future')\n",
    "  if prediction.any():\n",
    "    plt.plot(np.arange(num_out)/STEP, np.array(prediction), 'ro',\n",
    "             label='Predicted Future')\n",
    "  plt.legend(loc='upper left')\n",
    "  plt.show()"
   ]
  },
  {
   "cell_type": "code",
   "execution_count": 34,
   "metadata": {},
   "outputs": [
    {
     "ename": "NameError",
     "evalue": "name 'x_train_multi' is not defined",
     "output_type": "error",
     "traceback": [
      "\u001b[1;31m---------------------------------------------------------------------------\u001b[0m",
      "\u001b[1;31mNameError\u001b[0m                                 Traceback (most recent call last)",
      "\u001b[1;32m<ipython-input-34-4537e323de6c>\u001b[0m in \u001b[0;36m<module>\u001b[1;34m\u001b[0m\n\u001b[0;32m      1\u001b[0m \u001b[0mrandom_is\u001b[0m \u001b[1;33m=\u001b[0m \u001b[0mnp\u001b[0m\u001b[1;33m.\u001b[0m\u001b[0mrandom\u001b[0m\u001b[1;33m.\u001b[0m\u001b[0mrandint\u001b[0m\u001b[1;33m(\u001b[0m\u001b[0mlen\u001b[0m\u001b[1;33m(\u001b[0m\u001b[0mx_val_uni\u001b[0m\u001b[1;33m)\u001b[0m\u001b[1;33m,\u001b[0m \u001b[0msize\u001b[0m\u001b[1;33m=\u001b[0m\u001b[1;36m3\u001b[0m\u001b[1;33m)\u001b[0m\u001b[1;33m\u001b[0m\u001b[0m\n\u001b[0;32m      2\u001b[0m \u001b[1;32mfor\u001b[0m \u001b[0mi\u001b[0m \u001b[1;32min\u001b[0m \u001b[0mrandom_is\u001b[0m\u001b[1;33m:\u001b[0m\u001b[1;33m\u001b[0m\u001b[0m\n\u001b[1;32m----> 3\u001b[1;33m     \u001b[0mmulti_step_plot\u001b[0m\u001b[1;33m(\u001b[0m\u001b[0mx_train_multi\u001b[0m\u001b[1;33m[\u001b[0m\u001b[0mi\u001b[0m\u001b[1;33m]\u001b[0m\u001b[1;33m,\u001b[0m \u001b[0my_train_multi\u001b[0m\u001b[1;33m[\u001b[0m\u001b[0mi\u001b[0m\u001b[1;33m]\u001b[0m\u001b[1;33m,\u001b[0m \u001b[0mnp\u001b[0m\u001b[1;33m.\u001b[0m\u001b[0marray\u001b[0m\u001b[1;33m(\u001b[0m\u001b[1;33m[\u001b[0m\u001b[1;36m0\u001b[0m\u001b[1;33m]\u001b[0m\u001b[1;33m)\u001b[0m\u001b[1;33m)\u001b[0m\u001b[1;33m\u001b[0m\u001b[0m\n\u001b[0m",
      "\u001b[1;31mNameError\u001b[0m: name 'x_train_multi' is not defined"
     ]
    }
   ],
   "source": [
    "random_is = np.random.randint(len(x_val_uni), size=3)\n",
    "for i in random_is:\n",
    "    multi_step_plot(x_train_multi[i], y_train_multi[i], np.array([0]))"
   ]
  },
  {
   "cell_type": "markdown",
   "metadata": {
    "colab_type": "text",
    "id": "2GnE087bJYSu"
   },
   "source": [
    "### Validating Multi-Step SSA Forecasting with Progressive Training\n",
    "The size of x_train_multi is 299280 data points, which corresponds to around 2078 days of weather data.\n",
    "The size of x_val_multi is 119759 data points, which corresponds to around 831 days of weather data.\n",
    "\n",
    "With a Time Series model, it's important to regularly update the state of the model with new observed data points to ensure the accuracy as new predictions are performed. For this reason, a Time Series model is stateful."
   ]
  },
  {
   "cell_type": "code",
   "execution_count": 35,
   "metadata": {},
   "outputs": [],
   "source": [
    "def multivariate_data_progressive(dataset, target, start_index, end_index, history_size,\n",
    "                      target_size, step, single_step=False):\n",
    "  data = []\n",
    "  labels = []\n",
    "\n",
    "  start_index = start_index + history_size\n",
    "  if end_index is None:\n",
    "    end_index = len(dataset) - target_size\n",
    "\n",
    "  for i in range(start_index, end_index):\n",
    "    indices = range(i-history_size, i, step)\n",
    "    data.append(dataset[indices])\n",
    "\n",
    "    if single_step:\n",
    "      labels.append(target[i+target_size])\n",
    "    else:\n",
    "      labels.append(target[i:i+target_size])\n",
    "\n",
    "  return np.array(data), np.array(labels)"
   ]
  },
  {
   "cell_type": "code",
   "execution_count": 36,
   "metadata": {},
   "outputs": [],
   "source": [
    "past_history = 720\n",
    "future_target = 72\n",
    "STEP = 6\n",
    "x_multi_progressive, y_multi_progressive = multivariate_data_progressive(dataset, dataset[:, 0], 0,\n",
    "                                                 None, past_history,\n",
    "                                                 future_target, STEP)"
   ]
  },
  {
   "cell_type": "code",
   "execution_count": 59,
   "metadata": {},
   "outputs": [
    {
     "name": "stdout",
     "output_type": "stream",
     "text": [
      "Size of input data per transform: 419759\n",
      "Size of output label data per transform: 419759\n"
     ]
    }
   ],
   "source": [
    "print(\"Size of input data per transform: {}\".format(len(x_multi_progressive)))\n",
    "print(\"Size of output label data per transform: {}\".format(len(y_multi_progressive)))"
   ]
  },
  {
   "cell_type": "code",
   "execution_count": 37,
   "metadata": {},
   "outputs": [],
   "source": [
    "def get_multi_prog_ssa_pipeline(given_series_length, seasonality_size, training_seasons, horizon):\n",
    "    training_size = seasonality_size * training_seasons\n",
    "    return Pipeline([\n",
    "        SsaForecaster(series_length= given_series_length,\n",
    "                      train_size= training_size,\n",
    "                      window_size= seasonality_size + 1,\n",
    "                      horizon=72,\n",
    "                      columns={'T (degC)_fc': 'T (degC)'})\n",
    "])"
   ]
  },
  {
   "cell_type": "code",
   "execution_count": 64,
   "metadata": {
    "scrolled": true
   },
   "outputs": [
    {
     "name": "stdout",
     "output_type": "stream",
     "text": [
      "Size of training dataset for SSA Multi-Step Forecasting (Progressive Training) on NimbusML: 419759.\n",
      "Iteration 1000/419759 - Current MAPE: 26.003433723989275%\n",
      "Iteration 2000/419759 - Current MAPE: 27.591098063907136%\n",
      "Iteration 3000/419759 - Current MAPE: 29.637178535316387%\n",
      "Iteration 4000/419759 - Current MAPE: 25.16522207029379%\n",
      "Iteration 5000/419759 - Current MAPE: 34.485771331628825%\n",
      "Iteration 6000/419759 - Current MAPE: 33.89128805320694%\n",
      "Iteration 7000/419759 - Current MAPE: 32.14342010227389%\n",
      "Iteration 8000/419759 - Current MAPE: 35.14431215711195%\n",
      "Iteration 9000/419759 - Current MAPE: 44.12594732247045%\n",
      "Iteration 10000/419759 - Current MAPE: 61.375897349867294%\n",
      "Iteration 11000/419759 - Current MAPE: 80.45396898941476%\n",
      "Iteration 12000/419759 - Current MAPE: 80.51289790744214%\n",
      "Iteration 13000/419759 - Current MAPE: 161.7048542308702%\n",
      "Iteration 14000/419759 - Current MAPE: 189.02457236056583%\n",
      "Iteration 15000/419759 - Current MAPE: 212.90315562962687%\n"
     ]
    },
    {
     "name": "stderr",
     "output_type": "stream",
     "text": [
      "ERROR - Internal Python error in the inspect module.\n",
      "Below is the traceback from this internal error.\n",
      "\n"
     ]
    },
    {
     "name": "stdout",
     "output_type": "stream",
     "text": [
      "Traceback (most recent call last):\n",
      "  File \"C:\\Users\\mubal\\AppData\\Roaming\\Python\\Python36\\site-packages\\IPython\\core\\interactiveshell.py\", line 3326, in run_code\n",
      "    exec(code_obj, self.user_global_ns, self.user_ns)\n",
      "  File \"<ipython-input-64-c037c0d04370>\", line 13, in <module>\n",
      "    pipeline_multi_prog_ssa_pipeline.fit(B_val_multi_prog_ssa, verbose=0)\n",
      "  File \"C:\\Users\\mubal\\AppData\\Roaming\\Python\\Python36\\site-packages\\nimbusml\\internal\\utils\\utils.py\", line 220, in wrapper\n",
      "    params = func(*args, **kwargs)\n",
      "  File \"C:\\Users\\mubal\\AppData\\Roaming\\Python\\Python36\\site-packages\\nimbusml\\pipeline.py\", line 1168, in fit\n",
      "    **params)\n",
      "  File \"C:\\Users\\mubal\\AppData\\Roaming\\Python\\Python36\\site-packages\\nimbusml\\internal\\utils\\entrypoints.py\", line 438, in run\n",
      "    output_modelfilename)\n",
      "  File \"C:\\Users\\mubal\\AppData\\Roaming\\Python\\Python36\\site-packages\\nimbusml\\internal\\utils\\entrypoints.py\", line 274, in _try_call_bridge\n",
      "    ret = px_call(call_parameters)\n",
      "KeyboardInterrupt\n",
      "\n",
      "During handling of the above exception, another exception occurred:\n",
      "\n",
      "Traceback (most recent call last):\n",
      "  File \"C:\\Users\\mubal\\AppData\\Roaming\\Python\\Python36\\site-packages\\IPython\\core\\interactiveshell.py\", line 2040, in showtraceback\n",
      "    stb = value._render_traceback_()\n",
      "AttributeError: 'KeyboardInterrupt' object has no attribute '_render_traceback_'\n",
      "\n",
      "During handling of the above exception, another exception occurred:\n",
      "\n",
      "Traceback (most recent call last):\n",
      "  File \"C:\\Users\\mubal\\AppData\\Roaming\\Python\\Python36\\site-packages\\IPython\\core\\ultratb.py\", line 1101, in get_records\n",
      "    return _fixed_getinnerframes(etb, number_of_lines_of_context, tb_offset)\n",
      "  File \"C:\\Users\\mubal\\AppData\\Roaming\\Python\\Python36\\site-packages\\IPython\\core\\ultratb.py\", line 319, in wrapped\n",
      "    return f(*args, **kwargs)\n",
      "  File \"C:\\Users\\mubal\\AppData\\Roaming\\Python\\Python36\\site-packages\\IPython\\core\\ultratb.py\", line 353, in _fixed_getinnerframes\n",
      "    records = fix_frame_records_filenames(inspect.getinnerframes(etb, context))\n",
      "  File \"C:\\Program Files (x86)\\Microsoft Visual Studio\\Shared\\Python36_64\\lib\\inspect.py\", line 1483, in getinnerframes\n",
      "    frameinfo = (tb.tb_frame,) + getframeinfo(tb, context)\n",
      "  File \"C:\\Program Files (x86)\\Microsoft Visual Studio\\Shared\\Python36_64\\lib\\inspect.py\", line 1441, in getframeinfo\n",
      "    filename = getsourcefile(frame) or getfile(frame)\n",
      "  File \"C:\\Program Files (x86)\\Microsoft Visual Studio\\Shared\\Python36_64\\lib\\inspect.py\", line 693, in getsourcefile\n",
      "    if os.path.exists(filename):\n",
      "  File \"C:\\Program Files (x86)\\Microsoft Visual Studio\\Shared\\Python36_64\\lib\\genericpath.py\", line 19, in exists\n",
      "    os.stat(path)\n",
      "KeyboardInterrupt\n"
     ]
    },
    {
     "ename": "KeyboardInterrupt",
     "evalue": "",
     "output_type": "error",
     "traceback": [
      "\u001b[1;31m---------------------------------------------------------------------------\u001b[0m"
     ]
    }
   ],
   "source": [
    "#With Gani's progressive SSA Training idea\n",
    "#Validating on the entire validation dataset of size 119759 data points, \n",
    "print(\"Size of training dataset for SSA Multi-Step Forecasting (Progressive Training) on NimbusML: {}.\".format(len(x_multi_progressive)))\n",
    "mape_raw_total = 0\n",
    "iter_count = 0\n",
    "#limit = 100\n",
    "#for i in range(1000):\n",
    "for i in range(len(y_multi_progressive)-2):\n",
    "    # Predicting\n",
    "    #     x_multi_progressive[:i].flatten() is equivalent to batch[i]\n",
    "    B_val_multi_prog_ssa = pd.Series(x_multi_progressive[:i+1].flatten(), name=\"T (degC)\")\n",
    "    pipeline_multi_prog_ssa_pipeline = get_multi_prog_ssa_pipeline(90*(i+1), 24, 4*(i+1), 72)\n",
    "    pipeline_multi_prog_ssa_pipeline.fit(B_val_multi_prog_ssa, verbose=0)\n",
    "    # Predicted values\n",
    "    p_val_multi_prog_ssa = pipeline_multi_prog_ssa_pipeline.transform(pd.Series(x_multi_progressive[i].flatten(), name=\"T (degC)\")).drop(\"T (degC)\", 1)\n",
    "    #print(p_val_multi_prog_ssa)\n",
    "    predicted_vals_multi = [0 for _ in range(72)]\n",
    "    count = 0\n",
    "    for (_, columnData) in p_val_multi_prog_ssa.iteritems():\n",
    "        predicted_vals_multi[count] = columnData.values[Let's look at the entire temperature dataset we have. Notice the cycles that occur around every year, and how these cycles repeat across time.119]\n",
    "        count += 1\n",
    "    # Performance\n",
    "    # mean absolute percentage error = mean(((y_true - y_pred) / y_true)) * 100)\n",
    "    mape_raw = np.mean(np.abs(abs(y_multi_progressive[i] - predicted_vals_multi) / abs(y_multi_progressive[i])))\n",
    "    mape_raw_total += mape_raw\n",
    "    iter_count += 1\n",
    "    if iter_count % 1000 == 0:\n",
    "        print(\"Iteration {}/{} - Current MAPE: {}%\".format(iter_count, len(y_multi_progressive), mape_raw_total*100/iter_count))\n",
    "    #multi_step_plot(x_multi_progressive[i], y_multi_progressive[i], np.asarray(predicted_vals_multi))\n",
    "    #print(\"This MAPE: {}%\".format(mape_raw*100))\n",
    "final_mape = mape_raw_total *100 / iter_count\n",
    "print(\"Mean absolute percentage error of {} samples for Multi-Step SSA Forecasting (Progressive Training) with NimbusML: {}%.\".format(iter_count, final_mape))"
   ]
  },
  {
   "cell_type": "code",
   "execution_count": 64,
   "metadata": {
    "scrolled": true
   },
   "outputs": [
    {
     "name": "stdout",
     "output_type": "stream",
     "text": [
      "Size of training dataset for SSA Multi-Step Forecasting (Progressive Training) on NimbusML: 419759.\n",
      "Iteration 1000/419759 - Current MAPE: 26.003433723989275%\n",
      "Iteration 2000/419759 - Current MAPE: 27.591098063907136%\n",
      "Iteration 3000/419759 - Current MAPE: 29.637178535316387%\n",
      "Iteration 4000/419759 - Current MAPE: 25.16522207029379%\n",
      "Iteration 5000/419759 - Current MAPE: 34.485771331628825%\n",
      "Iteration 6000/419759 - Current MAPE: 33.89128805320694%\n",
      "Iteration 7000/419759 - Current MAPE: 32.14342010227389%\n",
      "Iteration 8000/419759 - Current MAPE: 35.14431215711195%\n",
      "Iteration 9000/419759 - Current MAPE: 44.12594732247045%\n",
      "Iteration 10000/419759 - Current MAPE: 61.375897349867294%\n",
      "Iteration 11000/419759 - Current MAPE: 80.45396898941476%\n",
      "Iteration 12000/419759 - Current MAPE: 80.51289790744214%\n",
      "Iteration 13000/419759 - Current MAPE: 161.7048542308702%\n",
      "Iteration 14000/419759 - Current MAPE: 189.02457236056583%\n",
      "Iteration 15000/419759 - Current MAPE: 212.90315562962687%\n"
     ]
    },
    {
     "name": "stderr",
     "output_type": "stream",
     "text": [
      "ERROR - Internal Python error in the inspect module.\n",
      "Below is the traceback from this internal error.\n",
      "\n"
     ]
    },
    {
     "name": "stdout",
     "output_type": "stream",
     "text": [
      "Traceback (most recent call last):\n",
      "  File \"C:\\Users\\mubal\\AppData\\Roaming\\Python\\Python36\\site-packages\\IPython\\core\\interactiveshell.py\", line 3326, in run_code\n",
      "    exec(code_obj, self.user_global_ns, self.user_ns)\n",
      "  File \"<ipython-input-64-c037c0d04370>\", line 13, in <module>\n",
      "    pipeline_multi_prog_ssa_pipeline.fit(B_val_multi_prog_ssa, verbose=0)\n",
      "  File \"C:\\Users\\mubal\\AppData\\Roaming\\Python\\Python36\\site-packages\\nimbusml\\internal\\utils\\utils.py\", line 220, in wrapper\n",
      "    params = func(*args, **kwargs)\n",
      "  File \"C:\\Users\\mubal\\AppData\\Roaming\\Python\\Python36\\site-packages\\nimbusml\\pipeline.py\", line 1168, in fit\n",
      "    **params)\n",
      "  File \"C:\\Users\\mubal\\AppData\\Roaming\\Python\\Python36\\site-packages\\nimbusml\\internal\\utils\\entrypoints.py\", line 438, in run\n",
      "    output_modelfilename)\n",
      "  File \"C:\\Users\\mubal\\AppData\\Roaming\\Python\\Python36\\site-packages\\nimbusml\\internal\\utils\\entrypoints.py\", line 274, in _try_call_bridge\n",
      "    ret = px_call(call_parameters)\n",
      "KeyboardInterrupt\n",
      "\n",
      "During handling of the above exception, another exception occurred:\n",
      "\n",
      "Traceback (most recent call last):\n",
      "  File \"C:\\Users\\mubal\\AppData\\Roaming\\Python\\Python36\\site-packages\\IPython\\core\\interactiveshell.py\", line 2040, in showtraceback\n",
      "    stb = value._render_traceback_()\n",
      "AttributeError: 'KeyboardInterrupt' object has no attribute '_render_traceback_'\n",
      "\n",
      "During handling of the above exception, another exception occurred:\n",
      "\n",
      "Traceback (most recent call last):\n",
      "  File \"C:\\Users\\mubal\\AppData\\Roaming\\Python\\Python36\\site-packages\\IPython\\core\\ultratb.py\", line 1101, in get_records\n",
      "    return _fixed_getinnerframes(etb, number_of_lines_of_context, tb_offset)\n",
      "  File \"C:\\Users\\mubal\\AppData\\Roaming\\Python\\Python36\\site-packages\\IPython\\core\\ultratb.py\", line 319, in wrapped\n",
      "    return f(*args, **kwargs)\n",
      "  File \"C:\\Users\\mubal\\AppData\\Roaming\\Python\\Python36\\site-packages\\IPython\\core\\ultratb.py\", line 353, in _fixed_getinnerframes\n",
      "    records = fix_frame_records_filenames(inspect.getinnerframes(etb, context))\n",
      "  File \"C:\\Program Files (x86)\\Microsoft Visual Studio\\Shared\\Python36_64\\lib\\inspect.py\", line 1483, in getinnerframes\n",
      "    frameinfo = (tb.tb_frame,) + getframeinfo(tb, context)\n",
      "  File \"C:\\Program Files (x86)\\Microsoft Visual Studio\\Shared\\Python36_64\\lib\\inspect.py\", line 1441, in getframeinfo\n",
      "    filename = getsourcefile(frame) or getfile(frame)\n",
      "  File \"C:\\Program Files (x86)\\Microsoft Visual Studio\\Shared\\Python36_64\\lib\\inspect.py\", line 693, in getsourcefile\n",
      "    if os.path.exists(filename):\n",
      "  File \"C:\\Program Files (x86)\\Microsoft Visual Studio\\Shared\\Python36_64\\lib\\genericpath.py\", line 19, in exists\n",
      "    os.stat(path)\n",
      "KeyboardInterrupt\n"
     ]
    },
    {
     "ename": "KeyboardInterrupt",
     "evalue": "",
     "output_type": "error",
     "traceback": [
      "\u001b[1;31m---------------------------------------------------------------------------\u001b[0m"
     ]
    }
   ],
   "source": [
    "#With Gani's progressive SSA Training idea\n",
    "#Validating on the entire validation dataset of size 119759 data points, \n",
    "print(\"Size of training dataset for SSA Multi-Step Forecasting (Progressive Training) on NimbusML: {}.\".format(len(x_multi_progressive)))\n",
    "mape_raw_total = 0\n",
    "iter_count = 0\n",
    "#limit = 100\n",
    "#for i in range(1000):\n",
    "for i in range(len(y_multi_progressive)-2):\n",
    "    # Predicting\n",
    "    #     x_multi_progressive[:i].flatten() is equivalent to batch[i]\n",
    "    B_val_multi_prog_ssa = pd.Series(x_multi_progressive[:i+1].flatten(), name=\"T (degC)\")\n",
    "    pipeline_multi_prog_ssa_pipeline = get_multi_prog_ssa_pipeline(90*(i+1), 24, 4*(i+1), 72)\n",
    "    pipeline_multi_prog_ssa_pipeline.fit(B_val_multi_prog_ssa, verbose=0)\n",
    "    # Predicted values\n",
    "    p_val_multi_prog_ssa = pipeline_multi_prog_ssa_pipeline.transform(pd.Series(x_multi_progressive[i].flatten(), name=\"T (degC)\")).drop(\"T (degC)\", 1)\n",
    "    #print(p_val_multi_prog_ssa)\n",
    "    predicted_vals_multi = [0 for _ in range(72)]\n",
    "    count = 0\n",
    "    for (_, columnData) in p_val_multi_prog_ssa.iteritems():\n",
    "        predicted_vals_multi[count] = columnData.values[Let's look at the entire temperature dataset we have. Notice the cycles that occur around every year, and how these cycles repeat across time.119]\n",
    "        count += 1\n",
    "    # Performance\n",
    "    # mean absolute percentage error = mean(((y_true - y_pred) / y_true)) * 100)\n",
    "    mape_raw = np.mean(np.abs(abs(y_multi_progressive[i] - predicted_vals_multi) / abs(y_multi_progressive[i])))\n",
    "    mape_raw_total += mape_raw\n",
    "    iter_count += 1\n",
    "    if iter_count % 1000 == 0:\n",
    "        print(\"Iteration {}/{} - Current MAPE: {}%\".format(iter_count, len(y_multi_progressive), mape_raw_total*100/iter_count))\n",
    "    #multi_step_plot(x_multi_progressive[i], y_multi_progressive[i], np.asarray(predicted_vals_multi))\n",
    "    #print(\"This MAPE: {}%\".format(mape_raw*100))\n",
    "final_mape = mape_raw_total *100 / iter_count\n",
    "print(\"Mean absolute percentage error of {} samples for Multi-Step SSA Forecasting (Progressive Training) with NimbusML: {}%.\".format(iter_count, final_mape))"
   ]
  },
  {
   "cell_type": "code",
   "execution_count": null,
   "metadata": {
    "scrolled": true
   },
   "outputs": [],
   "source": [
    "#With Gani's progressive SSA Training idea\n",
    "#Validating on random data points\n",
    "print(\"Size of training dataset for SSA Multi-Step Forecasting (Progressive Training) on NimbusML: {}.\".format(len(x_multi_progressive)))\n",
    "mapesTotal = 0\n",
    "for i in np.random.randint(len(y_multi_progressive), size=3):\n",
    "    print(i)\n",
    "    # Predicting\n",
    "    #     x_multi_progressive[:i].flatten() is equivalent to batch[i]\n",
    "    i = 5000\n",
    "    B_val_multi_prog_ssa = pd.Series(x_multi_progressive[:i+1].flatten(), name=\"T (degC)\")\n",
    "    pipeline_multi_prog_ssa_pipeline = get_multi_prog_ssa_pipeline(90*(i+1), 25, 4*(i+1), 72)\n",
    "    pipeline_multi_prog_ssa_pipeline.fit(B_val_multi_prog_ssa)\n",
    "    # Predicted values\n",
    "    p_val_multi_prog_ssa = pipeline_multi_prog_ssa_pipeline.transform(pd.Series(x_multi_progressive[:i].flatten(), name=\"T (degC)\")).drop(\"T (degC)\", 1)\n",
    "    predicted_vals_multi = [0 for _ in range(72)]\n",
    "    count = 0\n",
    "    for (_, columnData) in p_val_multi_prog_ssa.iteritems():\n",
    "        predicted_vals_multi[count] = columnData.values[119]\n",
    "        count += 1\n",
    "    multi_step_plot(x_multi_progressive[i], y_multi_progressive[i], np.asarray(predicted_vals_multi))\n",
    "    # Performance\n",
    "    # mean absolute percentage error = mean(((y_true - y_pred) / y_true)) * 100)\n",
    "    mape = np.mean(np.abs(abs(y_multi_progressive[i] - predicted_vals_multi) / abs(y_multi_progressive[i]))) * 100\n",
    "    print(\"Mean absolute percentage error of sample {} for Multi-Step SSA Forecasting (Progressive Training) with NimbusML: {}%.\".format(i, mape))"
   ]
  },
  {
   "cell_type": "code",
   "execution_count": 60,
   "metadata": {},
   "outputs": [
    {
     "name": "stdout",
     "output_type": "stream",
     "text": [
      "Elapsed time: 00:01:58.8501751\n"
     ]
    },
    {
     "data": {
      "image/png": "[encoded data removed]",
      "text/plain": [
       "<Figure size 864x432 with 1 Axes>"
      ]
     },
     "metadata": {
      "needs_background": "light"
     },
     "output_type": "display_data"
    },
    {
     "name": "stdout",
     "output_type": "stream",
     "text": [
      "Mean absolute percentage error of sample 419757 for Multi-Step SSA Forecasting (Progressive Training) with NimbusML: 108.78359864491091%.\n"
     ]
    }
   ],
   "source": [
    "#With Gani's progressive SSA Training idea\n",
    "#Experimenting\n",
    "# Predicting\n",
    "#     x_multi_progressive[:i].flatten() is equivalent to batch[i]\n",
    "#i = random.randint(0, len(y_multi_progressive))\n",
    "i = len(x_multi_progressive)-2\n",
    "B_val_multi_prog_ssa = pd.Series(x_multi_progressive[:i+1].flatten(), name=\"T (degC)\")\n",
    "pipeline_multi_prog_ssa_pipeline = get_multi_prog_ssa_pipeline(90*(i+1), 24, 4*(i+1), 72)\n",
    "pipeline_multi_prog_ssa_pipeline.fit(B_val_multi_prog_ssa)\n",
    "# Predicted values\n",
    "p_val_multi_prog_ssa = pipeline_multi_prog_ssa_pipeline.transform(pd.Series(x_multi_progressive[:i].flatten(), name=\"T (degC)\")).drop(\"T (degC)\", 1)\n",
    "predicted_vals_multi = [0 for _ in range(72)]\n",
    "count = 0\n",
    "for (_, columnData) in p_val_multi_prog_ssa.iteritems():\n",
    "    predicted_vals_multi[count] = columnData.values[119]\n",
    "    count += 1\n",
    "multi_step_plot(x_multi_progressive[i], y_multi_progressive[i], np.asarray(predicted_vals_multi))\n",
    "# Performance\n",
    "# mean absolute percentage error = mean(((y_true - y_pred) / y_true)) * 100)\n",
    "mape = np.mean(np.abs(abs(y_multi_progressive[i] - predicted_vals_multi) / abs(y_multi_progressive[i]))) * 100\n",
    "print(\"Mean absolute percentage error of sample {} for Multi-Step SSA Forecasting (Progressive Training) with NimbusML: {}%.\".format(i, mape))"
   ]
  },
  {
   "cell_type": "code",
   "execution_count": null,
   "metadata": {},
   "outputs": [],
   "source": []
  },
  {
   "cell_type": "code",
   "execution_count": null,
   "metadata": {},
   "outputs": [],
   "source": []
  }
 ],
 "metadata": {
  "kernelspec": {
   "display_name": "Python 3",
   "language": "python",
   "name": "python3"
  },
  "language_info": {
   "codemirror_mode": {
    "name": "ipython",
    "version": 3
   },
   "file_extension": ".py",
   "mimetype": "text/x-python",
   "name": "python",
   "nbconvert_exporter": "python",
   "pygments_lexer": "ipython3",
   "version": "3.6.6"
  }
 },
 "nbformat": 4,
 "nbformat_minor": 2
}
