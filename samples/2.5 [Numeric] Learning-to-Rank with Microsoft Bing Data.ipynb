{
 "cells": [
  {
   "cell_type": "markdown",
   "metadata": {},
   "source": [
    "# Defining Column Roles with NimbusML - Relevance Judgement\n",
    "\n",
    "In NimbusML, when developing a pipeline, (usually for the last learner) users can specify the column roles, such as feature, label, weight, group (for ranking problem), etc.. With this definition, a full dataset with all thoses columns can be fed to the training function. The learner will extract the useful columns from the dataset automatically.\n",
    "\n",
    "In this tutorial, we solve a learning to rank problem using Microsoft Bing data. More specifically, it is a Subset Ranking problem with real-valued relevance labels. The [full dataset](https://www.microsoft.com/en-us/research/project/mslr/) is available online. Queries and urls provided by a web search engine (Microsoft Bing) are presented as pairs (see the following figure). Each query-url pair is then evaluated by relevence, which takes 5 values (0 for irrelevenat and 4 for perfectly relevant), serving as the label for this machine learning problem. Features are extracted by the Bing team, and those include term frequencies, length of url, etc. for each query-url pair. The model aims at predicting the scores of each pair that in the same order as the relevance within the same group.\n",
    "\n",
    "In this notebook, due to license issues, we use a randomly generated ranking data just to demonstrate the usage of the package."
   ]
  },
  {
   "cell_type": "code",
   "execution_count": 1,
   "metadata": {},
   "outputs": [
    {
     "data": {
      "image/png": "[encoded data removed]",
      "text/plain": [
       "<IPython.core.display.Image object>"
      ]
     },
     "metadata": {},
     "output_type": "display_data"
    }
   ],
   "source": [
    "from IPython.display import display,IFrame,Image\n",
    "display(Image(filename='images/Ranking2.PNG'))"
   ]
  },
  {
   "cell_type": "markdown",
   "metadata": {},
   "source": [
    "## Loading Data"
   ]
  },
  {
   "cell_type": "code",
   "execution_count": 2,
   "metadata": {},
   "outputs": [],
   "source": [
    "# Getting input file path from package\n",
    "# Due to licensing, user needs to download data files himself\n",
    "import os\n",
    "import numpy as np\n",
    "import pandas as pd\n",
    "from nimbusml.datasets import get_dataset\n",
    "from nimbusml import FileDataStream, Role, Pipeline\n",
    "from nimbusml.ensemble import LightGbmRanker\n",
    "from nimbusml.feature_extraction.categorical import OneHotHashVectorizer\n",
    "\n",
    "train_file = get_dataset('msltrtrain').as_filepath()\n",
    "test_file = get_dataset('msltrtest').as_filepath()"
   ]
  },
  {
   "cell_type": "markdown",
   "metadata": {},
   "source": [
    "A snapshot of the input training data is shown below:\n",
    "\n",
    "|Relevance|QueryID|CoveredQueryTermNumber-Body|StreamLength-Body|InverseDocumentFrequency-Body|SumOfTermFrequency-Title|QualityScore|\n",
    "|-----|----------|--------------|-------|--------|-------------|------|\n",
    "|2|1|3|156|6.94|2|1|\n",
    "|3|1|3|406|6.94|1|3|\n",
    "|2|6|3|146|10.22|6|3|\n",
    "|5|6|3|209|10.22|4|23|\n",
    "\n",
    "Each row corresponds to a url-query pair. The first column is the relevance for the url to the corresponding query. The first and second rows are for the same query, but the second url has higher relavance score than the first one. The second column is the query id. The rest columns include the features for this url-query pair. There are 136 features in total, some of which are not shown here. The ranking model predicts the relevance label for each url-query pair."
   ]
  },
  {
   "cell_type": "markdown",
   "metadata": {},
   "source": [
    "We generate the schema and create DataFileStream."
   ]
  },
  {
   "cell_type": "code",
   "execution_count": 3,
   "metadata": {},
   "outputs": [],
   "source": [
    "train_stream = FileDataStream.read_csv(\n",
    "                                        train_file, sep = ',', \n",
    "                                        header = False, \n",
    "                                        collapse=True, \n",
    "                                        names={0:'Label', 1:'GroupId', (2,137):'Features'}, \n",
    "                                        numeric_dtype=np.float32, dtype={'GroupId':str})\n",
    "test_stream = FileDataStream.read_csv(\n",
    "                                        test_file, \n",
    "                                        sep = ',', \n",
    "                                        header = False, \n",
    "                                        collapse=True, \n",
    "                                        names={0:'Label', 1:'GroupId', (2,137):'Features'}, \n",
    "                                        numeric_dtype=np.float32, \n",
    "                                        dtype={'GroupId':str})"
   ]
  },
  {
   "cell_type": "markdown",
   "metadata": {},
   "source": [
    "## Training"
   ]
  },
  {
   "cell_type": "code",
   "execution_count": 4,
   "metadata": {},
   "outputs": [
    {
     "name": "stdout",
     "output_type": "stream",
     "text": [
      "Not adding a normalizer.\n",
      "Auto-tuning parameters: UseCategoricalSplit = False\n",
      "Auto-tuning parameters: LearningRate = 0.2\n",
      "Auto-tuning parameters: NumberOfLeaves = 20\n",
      "Auto-tuning parameters: MinimumExampleCountPerLeaf = 20\n",
      "LightGBM objective=lambdarank\n",
      "Not training a calibrator because it is not needed.\n",
      "Elapsed time: 00:00:01.0279005\n"
     ]
    }
   ],
   "source": [
    "model = Pipeline([\n",
    "                    OneHotHashVectorizer(output_kind='Key', columns='GroupId'), #If we can generate schema setting GroupId:U4, we don't need this\n",
    "                    LightGbmRanker(feature=\"Features\", label='Label', group_id='GroupId')\n",
    "                ])\n",
    "model.fit(train_stream, 'Label');"
   ]
  },
  {
   "cell_type": "markdown",
   "metadata": {},
   "source": [
    "Notice that we add a `OneHotHashVectorizer` transform for the GroupId column. The original dataset has column GroupId as string. However, for LightGbmRanker, the group_id column must be a 'key' type. Therefore, we add this tranformation. The `ToKey` transform would not work in this situation because it would mark any group id's that it didn't encounter in the training dataset as \"missing\" and cause the ranker to incorrectly see these samples as a single query.\n",
    "\n",
    "The above code identifies the feature, label and the group_id for LightGbmRanker(). The loss function is estimated per group, and the group_id is needed for each query-url pair. In this case, the group_id is the same as the query id. \n",
    "\n",
    "There are three ways to specify those roles for different columns, other than the syntax above, the following syntax is also allowed:\n",
    "        \n",
    "        from nimbusml import Role\n",
    "        model = LightGbmRanker() << {Role.Feature: 'Features', Role.Label: 'Label', Role.GroupId: 'GroupID'}\n",
    "        model = LightGbmRanker(columns = {Role.Feature: 'Features', Role.Label: 'Label', Role.GroupId: 'GroupID'})\n",
    "Not only for ranking problems, the same syntax can also be used for classificaion, regression, etc.. In the fitting function, no \"y\" will be needed as long as all the columns are included in the training dataset (either a dataframe or a FileDataStream)."
   ]
  },
  {
   "cell_type": "markdown",
   "metadata": {},
   "source": [
    "## Evaluation"
   ]
  },
  {
   "cell_type": "markdown",
   "metadata": {},
   "source": [
    "Similar to other examples with pipeline, the model can be evaluated using .test(). A perfect ranking model would predict higher score for url-query pair with high relevance. We can see from the above table that all the test samples belong to the same query. Urls have higher relevance tend to have higher score. Note that the model is only trained with 100 rows of data and should be improved with large sample size."
   ]
  },
  {
   "cell_type": "code",
   "execution_count": 5,
   "metadata": {
    "scrolled": false
   },
   "outputs": [
    {
     "name": "stdout",
     "output_type": "stream",
     "text": [
      "Prediction scores: \n"
     ]
    },
    {
     "data": {
      "text/html": [
       "<div>\n",
       "<style scoped>\n",
       "    .dataframe tbody tr th:only-of-type {\n",
       "        vertical-align: middle;\n",
       "    }\n",
       "\n",
       "    .dataframe tbody tr th {\n",
       "        vertical-align: top;\n",
       "    }\n",
       "\n",
       "    .dataframe thead th {\n",
       "        text-align: right;\n",
       "    }\n",
       "</style>\n",
       "<table border=\"1\" class=\"dataframe\">\n",
       "  <thead>\n",
       "    <tr style=\"text-align: right;\">\n",
       "      <th></th>\n",
       "      <th>Score</th>\n",
       "      <th>Relevance</th>\n",
       "      <th>QueryID</th>\n",
       "    </tr>\n",
       "  </thead>\n",
       "  <tbody>\n",
       "    <tr>\n",
       "      <th>66</th>\n",
       "      <td>1.566006</td>\n",
       "      <td>1</td>\n",
       "      <td>5</td>\n",
       "    </tr>\n",
       "    <tr>\n",
       "      <th>62</th>\n",
       "      <td>1.505586</td>\n",
       "      <td>1</td>\n",
       "      <td>5</td>\n",
       "    </tr>\n",
       "    <tr>\n",
       "      <th>1</th>\n",
       "      <td>1.408520</td>\n",
       "      <td>1</td>\n",
       "      <td>5</td>\n",
       "    </tr>\n",
       "    <tr>\n",
       "      <th>38</th>\n",
       "      <td>1.382001</td>\n",
       "      <td>2</td>\n",
       "      <td>5</td>\n",
       "    </tr>\n",
       "    <tr>\n",
       "      <th>72</th>\n",
       "      <td>1.266245</td>\n",
       "      <td>1</td>\n",
       "      <td>5</td>\n",
       "    </tr>\n",
       "    <tr>\n",
       "      <th>53</th>\n",
       "      <td>1.141865</td>\n",
       "      <td>1</td>\n",
       "      <td>5</td>\n",
       "    </tr>\n",
       "    <tr>\n",
       "      <th>90</th>\n",
       "      <td>1.110529</td>\n",
       "      <td>2</td>\n",
       "      <td>5</td>\n",
       "    </tr>\n",
       "    <tr>\n",
       "      <th>58</th>\n",
       "      <td>1.080019</td>\n",
       "      <td>2</td>\n",
       "      <td>5</td>\n",
       "    </tr>\n",
       "    <tr>\n",
       "      <th>91</th>\n",
       "      <td>1.078564</td>\n",
       "      <td>3</td>\n",
       "      <td>5</td>\n",
       "    </tr>\n",
       "    <tr>\n",
       "      <th>2</th>\n",
       "      <td>1.008401</td>\n",
       "      <td>1</td>\n",
       "      <td>5</td>\n",
       "    </tr>\n",
       "  </tbody>\n",
       "</table>\n",
       "</div>"
      ],
      "text/plain": [
       "       Score  Relevance  QueryID\n",
       "66  1.566006          1        5\n",
       "62  1.505586          1        5\n",
       "1   1.408520          1        5\n",
       "38  1.382001          2        5\n",
       "72  1.266245          1        5\n",
       "53  1.141865          1        5\n",
       "90  1.110529          2        5\n",
       "58  1.080019          2        5\n",
       "91  1.078564          3        5\n",
       "2   1.008401          1        5"
      ]
     },
     "execution_count": 5,
     "metadata": {},
     "output_type": "execute_result"
    }
   ],
   "source": [
    "metrics, scores = model.test(test_stream, 'Label', group_id = 'GroupId', evaltype='ranking', output_scores = True)\n",
    "\n",
    "import pandas as pd\n",
    "scores[['Relevance','QueryID']] = pd.read_csv(test_file, header = None)[[0,1]]\n",
    "\n",
    "# Show the top 10 predicted items for query 5.\n",
    "print(\"Prediction scores: \")\n",
    "scores[scores.QueryID == 5].sort_values('Score', ascending=False).head(10)"
   ]
  },
  {
   "cell_type": "markdown",
   "metadata": {},
   "source": [
    "## Discussion"
   ]
  },
  {
   "cell_type": "markdown",
   "metadata": {},
   "source": [
    "The Normalized Discounted Cumulative Gain (NDCG) and Discounted Cumulative Gain (DCG) at a particular rank position (1,2, or 3) are reported by the .test() function if setting evaltype='ranking'. DCG evaluates the quality of a rank with respect to the original relevance scores. It is the sum of the discounted relevance scores for the top N items in the ranking. The discounting factor, which is logarithmically proportional to the position of the item, is meant to penalize highly relevant items that appear lower in the ranking. DCG can be computed as follows:\n",
    "\n",
    "<img src=\"images/2-5-1.png\" align = \"middle\"/>\n",
    "  \n",
    "Where N is the threshold of ranking to account for in DCG, and g<sub>i</sub> the relavance score for the i<sup>th</sup> item in the ranking. Since the number of items in a result can vary by query, DCG is not a consistent metric when comparing results for multiple queries. NDCG normalizes DCG by the max(DCG) or the Ideal DCG (IDCG), which is the DCG for the perfect ranking where all items are ranked in decreasing order of relevance. This scales NDCG to a range of [0,1] so that comparisons of rankings across multiple queries are possible."
   ]
  },
  {
   "cell_type": "code",
   "execution_count": 6,
   "metadata": {},
   "outputs": [
    {
     "name": "stdout",
     "output_type": "stream",
     "text": [
      "Performance Metrics: \n"
     ]
    },
    {
     "data": {
      "text/html": [
       "<div>\n",
       "<style scoped>\n",
       "    .dataframe tbody tr th:only-of-type {\n",
       "        vertical-align: middle;\n",
       "    }\n",
       "\n",
       "    .dataframe tbody tr th {\n",
       "        vertical-align: top;\n",
       "    }\n",
       "\n",
       "    .dataframe thead th {\n",
       "        text-align: right;\n",
       "    }\n",
       "</style>\n",
       "<table border=\"1\" class=\"dataframe\">\n",
       "  <thead>\n",
       "    <tr style=\"text-align: right;\">\n",
       "      <th></th>\n",
       "      <th>NDCG@1</th>\n",
       "      <th>NDCG@2</th>\n",
       "      <th>NDCG@3</th>\n",
       "      <th>DCG@1</th>\n",
       "      <th>DCG@2</th>\n",
       "      <th>DCG@3</th>\n",
       "    </tr>\n",
       "  </thead>\n",
       "  <tbody>\n",
       "    <tr>\n",
       "      <th>0</th>\n",
       "      <td>0.2</td>\n",
       "      <td>0.2</td>\n",
       "      <td>0.228608</td>\n",
       "      <td>4.328085</td>\n",
       "      <td>7.058803</td>\n",
       "      <td>9.222845</td>\n",
       "    </tr>\n",
       "  </tbody>\n",
       "</table>\n",
       "</div>"
      ],
      "text/plain": [
       "   NDCG@1  NDCG@2    NDCG@3     DCG@1     DCG@2     DCG@3\n",
       "0     0.2     0.2  0.228608  4.328085  7.058803  9.222845"
      ]
     },
     "execution_count": 6,
     "metadata": {},
     "output_type": "execute_result"
    }
   ],
   "source": [
    "print(\"Performance Metrics: \")\n",
    "metrics"
   ]
  }
 ],
 "metadata": {
  "kernelspec": {
   "display_name": "Python 3",
   "language": "python",
   "name": "python3"
  },
  "language_info": {
   "codemirror_mode": {
    "name": "ipython",
    "version": 3
   },
   "file_extension": ".py",
   "mimetype": "text/x-python",
   "name": "python",
   "nbconvert_exporter": "python",
   "pygments_lexer": "ipython3",
   "version": "3.7.3"
  }
 },
 "nbformat": 4,
 "nbformat_minor": 2
}
