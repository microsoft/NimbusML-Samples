{
 "cells": [
  {
   "cell_type": "markdown",
   "metadata": {},
   "source": [
    "Univariate Time Series Forecasting with NimbusML"
   ]
  },
  {
   "cell_type": "code",
   "execution_count": 2,
   "metadata": {},
   "outputs": [],
   "source": [
    "import os\n",
    "import pandas as pd\n",
    "import numpy as np\n",
    "import matplotlib as mpl\n",
    "import matplotlib.pyplot as plt\n",
    "import random\n",
    "from nimbusml import Pipeline\n",
    "from nimbusml.timeseries import SsaForecaster\n",
    "\n",
    "mpl.rcParams['figure.figsize'] = (8, 6)\n",
    "mpl.rcParams['axes.grid'] = False"
   ]
  },
  {
   "cell_type": "code",
   "execution_count": 3,
   "metadata": {
    "scrolled": true
   },
   "outputs": [],
   "source": [
    "# Load image summary data from github\n",
    "url_to_csv = \"https://raw.githubusercontent.com/mstfbl/NimbusML-Samples/Issue-22/datasets/max_planck_weather_time_series_dataset.csv\"\n",
    "df_train = pd.read_csv(filepath_or_buffer=url_to_csv, sep = \",\",)"
   ]
  },
  {
   "cell_type": "markdown",
   "metadata": {},
   "source": [
    "Let's look at our data."
   ]
  },
  {
   "cell_type": "code",
   "execution_count": 4,
   "metadata": {},
   "outputs": [
    {
     "data": {
      "text/html": [
       "<div>\n",
       "<style scoped>\n",
       "    .dataframe tbody tr th:only-of-type {\n",
       "        vertical-align: middle;\n",
       "    }\n",
       "\n",
       "    .dataframe tbody tr th {\n",
       "        vertical-align: top;\n",
       "    }\n",
       "\n",
       "    .dataframe thead th {\n",
       "        text-align: right;\n",
       "    }\n",
       "</style>\n",
       "<table border=\"1\" class=\"dataframe\">\n",
       "  <thead>\n",
       "    <tr style=\"text-align: right;\">\n",
       "      <th></th>\n",
       "      <th>Date Time</th>\n",
       "      <th>p (mbar)</th>\n",
       "      <th>T (degC)</th>\n",
       "      <th>Tpot (K)</th>\n",
       "      <th>Tdew (degC)</th>\n",
       "      <th>rh (%)</th>\n",
       "      <th>VPmax (mbar)</th>\n",
       "      <th>VPact (mbar)</th>\n",
       "      <th>VPdef (mbar)</th>\n",
       "      <th>sh (g/kg)</th>\n",
       "      <th>H2OC (mmol/mol)</th>\n",
       "      <th>rho (g/m**3)</th>\n",
       "      <th>wv (m/s)</th>\n",
       "      <th>max. wv (m/s)</th>\n",
       "      <th>wd (deg)</th>\n",
       "    </tr>\n",
       "  </thead>\n",
       "  <tbody>\n",
       "    <tr>\n",
       "      <td>0</td>\n",
       "      <td>01.01.2009 00:10:00</td>\n",
       "      <td>996.52</td>\n",
       "      <td>-8.02</td>\n",
       "      <td>265.40</td>\n",
       "      <td>-8.90</td>\n",
       "      <td>93.3</td>\n",
       "      <td>3.33</td>\n",
       "      <td>3.11</td>\n",
       "      <td>0.22</td>\n",
       "      <td>1.94</td>\n",
       "      <td>3.12</td>\n",
       "      <td>1307.75</td>\n",
       "      <td>1.03</td>\n",
       "      <td>1.75</td>\n",
       "      <td>152.3</td>\n",
       "    </tr>\n",
       "    <tr>\n",
       "      <td>1</td>\n",
       "      <td>01.01.2009 00:20:00</td>\n",
       "      <td>996.57</td>\n",
       "      <td>-8.41</td>\n",
       "      <td>265.01</td>\n",
       "      <td>-9.28</td>\n",
       "      <td>93.4</td>\n",
       "      <td>3.23</td>\n",
       "      <td>3.02</td>\n",
       "      <td>0.21</td>\n",
       "      <td>1.89</td>\n",
       "      <td>3.03</td>\n",
       "      <td>1309.80</td>\n",
       "      <td>0.72</td>\n",
       "      <td>1.50</td>\n",
       "      <td>136.1</td>\n",
       "    </tr>\n",
       "    <tr>\n",
       "      <td>2</td>\n",
       "      <td>01.01.2009 00:30:00</td>\n",
       "      <td>996.53</td>\n",
       "      <td>-8.51</td>\n",
       "      <td>264.91</td>\n",
       "      <td>-9.31</td>\n",
       "      <td>93.9</td>\n",
       "      <td>3.21</td>\n",
       "      <td>3.01</td>\n",
       "      <td>0.20</td>\n",
       "      <td>1.88</td>\n",
       "      <td>3.02</td>\n",
       "      <td>1310.24</td>\n",
       "      <td>0.19</td>\n",
       "      <td>0.63</td>\n",
       "      <td>171.6</td>\n",
       "    </tr>\n",
       "    <tr>\n",
       "      <td>3</td>\n",
       "      <td>01.01.2009 00:40:00</td>\n",
       "      <td>996.51</td>\n",
       "      <td>-8.31</td>\n",
       "      <td>265.12</td>\n",
       "      <td>-9.07</td>\n",
       "      <td>94.2</td>\n",
       "      <td>3.26</td>\n",
       "      <td>3.07</td>\n",
       "      <td>0.19</td>\n",
       "      <td>1.92</td>\n",
       "      <td>3.08</td>\n",
       "      <td>1309.19</td>\n",
       "      <td>0.34</td>\n",
       "      <td>0.50</td>\n",
       "      <td>198.0</td>\n",
       "    </tr>\n",
       "    <tr>\n",
       "      <td>4</td>\n",
       "      <td>01.01.2009 00:50:00</td>\n",
       "      <td>996.51</td>\n",
       "      <td>-8.27</td>\n",
       "      <td>265.15</td>\n",
       "      <td>-9.04</td>\n",
       "      <td>94.1</td>\n",
       "      <td>3.27</td>\n",
       "      <td>3.08</td>\n",
       "      <td>0.19</td>\n",
       "      <td>1.92</td>\n",
       "      <td>3.09</td>\n",
       "      <td>1309.00</td>\n",
       "      <td>0.32</td>\n",
       "      <td>0.63</td>\n",
       "      <td>214.3</td>\n",
       "    </tr>\n",
       "  </tbody>\n",
       "</table>\n",
       "</div>"
      ],
      "text/plain": [
       "             Date Time  p (mbar)  T (degC)  Tpot (K)  Tdew (degC)  rh (%)  \\\n",
       "0  01.01.2009 00:10:00    996.52     -8.02    265.40        -8.90    93.3   \n",
       "1  01.01.2009 00:20:00    996.57     -8.41    265.01        -9.28    93.4   \n",
       "2  01.01.2009 00:30:00    996.53     -8.51    264.91        -9.31    93.9   \n",
       "3  01.01.2009 00:40:00    996.51     -8.31    265.12        -9.07    94.2   \n",
       "4  01.01.2009 00:50:00    996.51     -8.27    265.15        -9.04    94.1   \n",
       "\n",
       "   VPmax (mbar)  VPact (mbar)  VPdef (mbar)  sh (g/kg)  H2OC (mmol/mol)  \\\n",
       "0          3.33          3.11          0.22       1.94             3.12   \n",
       "1          3.23          3.02          0.21       1.89             3.03   \n",
       "2          3.21          3.01          0.20       1.88             3.02   \n",
       "3          3.26          3.07          0.19       1.92             3.08   \n",
       "4          3.27          3.08          0.19       1.92             3.09   \n",
       "\n",
       "   rho (g/m**3)  wv (m/s)  max. wv (m/s)  wd (deg)  \n",
       "0       1307.75      1.03           1.75     152.3  \n",
       "1       1309.80      0.72           1.50     136.1  \n",
       "2       1310.24      0.19           0.63     171.6  \n",
       "3       1309.19      0.34           0.50     198.0  \n",
       "4       1309.00      0.32           0.63     214.3  "
      ]
     },
     "execution_count": 4,
     "metadata": {},
     "output_type": "execute_result"
    }
   ],
   "source": [
    "df_train.head()"
   ]
  },
  {
   "cell_type": "code",
   "execution_count": 5,
   "metadata": {},
   "outputs": [],
   "source": [
    "def univariate_data(dataset, start_index, end_index, history_size, target_size):\n",
    "  data = []\n",
    "  labels = []\n",
    "\n",
    "  start_index = start_index + history_size\n",
    "  if end_index is None:\n",
    "    end_index = len(dataset) - target_size\n",
    "\n",
    "  for i in range(start_index, end_index):\n",
    "    indices = range(i-history_size, i)\n",
    "    # Reshape data from (history_size,) to (history_size, 1)\n",
    "    data.append(np.reshape(dataset[indices], (history_size, 1)))\n",
    "    labels.append(dataset[i+target_size])\n",
    "  return np.array(data), np.array(labels)"
   ]
  },
  {
   "cell_type": "code",
   "execution_count": 6,
   "metadata": {},
   "outputs": [],
   "source": [
    "TRAIN_SPLIT = 300000"
   ]
  },
  {
   "cell_type": "markdown",
   "metadata": {},
   "source": [
    "Single step prediction"
   ]
  },
  {
   "cell_type": "code",
   "execution_count": 7,
   "metadata": {},
   "outputs": [
    {
     "data": {
      "text/plain": [
       "Date Time\n",
       "01.01.2009 00:10:00   -8.02\n",
       "01.01.2009 00:20:00   -8.41\n",
       "01.01.2009 00:30:00   -8.51\n",
       "01.01.2009 00:40:00   -8.31\n",
       "01.01.2009 00:50:00   -8.27\n",
       "Name: T (degC), dtype: float64"
      ]
     },
     "execution_count": 7,
     "metadata": {},
     "output_type": "execute_result"
    }
   ],
   "source": [
    "data_univariate = df_train['T (degC)']\n",
    "data_univariate.index = df_train['Date Time']\n",
    "data_univariate.head()"
   ]
  },
  {
   "cell_type": "code",
   "execution_count": 8,
   "metadata": {},
   "outputs": [
    {
     "data": {
      "text/plain": [
       "array([<matplotlib.axes._subplots.AxesSubplot object at 0x000002B9ABDADF98>],\n",
       "      dtype=object)"
      ]
     },
     "execution_count": 8,
     "metadata": {},
     "output_type": "execute_result"
    },
    {
     "data": {
      "image/png": "[encoded data removed]",
      "text/plain": [
       "<Figure size 432x288 with 1 Axes>"
      ]
     },
     "metadata": {
      "needs_background": "light"
     },
     "output_type": "display_data"
    }
   ],
   "source": [
    "data_univariate.plot(subplots=True)"
   ]
  },
  {
   "cell_type": "code",
   "execution_count": 9,
   "metadata": {},
   "outputs": [],
   "source": [
    "data_univariate = data_univariate.values\n",
    "data_univariate_mean = data_univariate[:TRAIN_SPLIT].mean()\n",
    "data_univariate_std = data_univariate[:TRAIN_SPLIT].std()\n",
    "data_univariate = (data_univariate-data_univariate_mean)/data_univariate_std"
   ]
  },
  {
   "cell_type": "code",
   "execution_count": 10,
   "metadata": {},
   "outputs": [],
   "source": [
    "univariate_past_history = 20\n",
    "univariate_future_target = 0\n",
    "\n",
    "x_train_uni, y_train_uni = univariate_data(data_univariate, 0, TRAIN_SPLIT,\n",
    "                                           univariate_past_history,\n",
    "                                           univariate_future_target)\n",
    "x_val_uni, y_val_uni = univariate_data(data_univariate, TRAIN_SPLIT, None,\n",
    "                                       univariate_past_history,\n",
    "                                       univariate_future_target)"
   ]
  },
  {
   "cell_type": "code",
   "execution_count": 11,
   "metadata": {},
   "outputs": [
    {
     "name": "stdout",
     "output_type": "stream",
     "text": [
      "120531\n"
     ]
    }
   ],
   "source": [
    "print(len(y_val_uni))"
   ]
  },
  {
   "cell_type": "code",
   "execution_count": 12,
   "metadata": {},
   "outputs": [
    {
     "name": "stdout",
     "output_type": "stream",
     "text": [
      "Single window of past history\n",
      "[[-1.99766294]\n",
      " [-2.04281897]\n",
      " [-2.05439744]\n",
      " [-2.0312405 ]\n",
      " [-2.02660912]\n",
      " [-2.00113649]\n",
      " [-1.95134907]\n",
      " [-1.95134907]\n",
      " [-1.98492663]\n",
      " [-2.04513467]\n",
      " [-2.08334362]\n",
      " [-2.09723778]\n",
      " [-2.09376424]\n",
      " [-2.09144854]\n",
      " [-2.07176515]\n",
      " [-2.07176515]\n",
      " [-2.07639653]\n",
      " [-2.08913285]\n",
      " [-2.09260639]\n",
      " [-2.10418486]]\n",
      "\n",
      " Target temperature to predict\n",
      "-2.1041848598100876\n"
     ]
    }
   ],
   "source": [
    "print ('Single window of past history')\n",
    "print (x_train_uni[0])\n",
    "print ('\\n Target temperature to predict')\n",
    "print (y_train_uni[0])"
   ]
  },
  {
   "cell_type": "code",
   "execution_count": 13,
   "metadata": {},
   "outputs": [],
   "source": [
    "def create_time_steps(length):\n",
    "  time_steps = []\n",
    "  for i in range(-length, 0, 1):\n",
    "    time_steps.append(i)\n",
    "  return time_steps"
   ]
  },
  {
   "cell_type": "code",
   "execution_count": 44,
   "metadata": {},
   "outputs": [],
   "source": [
    "def show_plot(plot_data, delta, title):\n",
    "  labels = ['History', 'True Future', 'Model Prediction']\n",
    "  marker = ['.-', 'rx', 'go']\n",
    "  time_steps = create_time_steps(plot_data[0].shape[0])\n",
    "  if delta:\n",
    "    future = delta\n",
    "  else:\n",
    "    future = 0\n",
    "\n",
    "  plt.title(title)\n",
    "  for i, x in enumerate(plot_data):\n",
    "    if i:\n",
    "      plt.plot(future, plot_data[i], marker[i], markersize=10,\n",
    "               label=labels[i])\n",
    "    else:\n",
    "      plt.plot(time_steps, plot_data[i].flatten(), marker[i], label=labels[i])\n",
    "  plt.legend()\n",
    "  plt.xlim([time_steps[0], (future+5)*2])\n",
    "  plt.xlabel('Time-Step')\n",
    "  return plt"
   ]
  },
  {
   "cell_type": "code",
   "execution_count": 45,
   "metadata": {
    "scrolled": true
   },
   "outputs": [
    {
     "data": {
      "text/plain": [
       "<module 'matplotlib.pyplot' from 'C:\\\\Users\\\\mubal\\\\AppData\\\\Roaming\\\\Python\\\\Python36\\\\site-packages\\\\matplotlib\\\\pyplot.py'>"
      ]
     },
     "execution_count": 45,
     "metadata": {},
     "output_type": "execute_result"
    },
    {
     "data": {
      "image/png": "[encoded data removed]",
      "text/plain": [
       "<Figure size 432x288 with 1 Axes>"
      ]
     },
     "metadata": {
      "needs_background": "light"
     },
     "output_type": "display_data"
    }
   ],
   "source": [
    "show_plot([x_train_uni[0], y_train_uni[0]], 0, 'Sample Example')"
   ]
  },
  {
   "cell_type": "code",
   "execution_count": 16,
   "metadata": {},
   "outputs": [],
   "source": [
    "def baseline(history):\n",
    "  return np.mean(history)"
   ]
  },
  {
   "cell_type": "code",
   "execution_count": 17,
   "metadata": {
    "scrolled": true
   },
   "outputs": [
    {
     "data": {
      "text/plain": [
       "<module 'matplotlib.pyplot' from 'C:\\\\Users\\\\mubal\\\\AppData\\\\Roaming\\\\Python\\\\Python36\\\\site-packages\\\\matplotlib\\\\pyplot.py'>"
      ]
     },
     "execution_count": 17,
     "metadata": {},
     "output_type": "execute_result"
    },
    {
     "data": {
      "image/png": "[encoded data removed]",
      "text/plain": [
       "<Figure size 432x288 with 1 Axes>"
      ]
     },
     "metadata": {
      "needs_background": "light"
     },
     "output_type": "display_data"
    }
   ],
   "source": [
    "#print(x_train_uni[0])\n",
    "#print(y_train_uni[0])\n",
    "#print(baseline(x_train_uni[0]))\n",
    "#print(x_train_uni.shape[-2:])\n",
    "show_plot([x_train_uni[0], y_train_uni[0], baseline(x_train_uni[0])], 0, 'Baseline Prediction Example')"
   ]
  },
  {
   "cell_type": "code",
   "execution_count": 49,
   "metadata": {},
   "outputs": [
    {
     "name": "stdout",
     "output_type": "stream",
     "text": [
      "0    -1.997663\n",
      "1    -2.042819\n",
      "2    -2.054397\n",
      "3    -2.031241\n",
      "4    -2.026609\n",
      "5    -2.001136\n",
      "6    -1.951349\n",
      "7    -1.951349\n",
      "8    -1.984927\n",
      "9    -2.045135\n",
      "10   -2.083344\n",
      "11   -2.097238\n",
      "12   -2.093764\n",
      "13   -2.091449\n",
      "14   -2.071765\n",
      "15   -2.071765\n",
      "16   -2.076397\n",
      "17   -2.089133\n",
      "18   -2.092606\n",
      "19   -2.104185\n",
      "Name: T (degC), dtype: float64\n",
      "0     0.642228\n",
      "1     0.636439\n",
      "2     0.636439\n",
      "3     0.636439\n",
      "4     0.636439\n",
      "5     0.636439\n",
      "6     0.636439\n",
      "7     0.636439\n",
      "8     0.631807\n",
      "9     0.629492\n",
      "10    0.629492\n",
      "11    0.626018\n",
      "12    0.621387\n",
      "13    0.619071\n",
      "14    0.613282\n",
      "15    0.607493\n",
      "16    0.606335\n",
      "17    0.604019\n",
      "18    0.600546\n",
      "19    0.600546\n",
      "Name: T (degC), dtype: float64\n"
     ]
    }
   ],
   "source": [
    "x_train_uni_list = [x[0] for x in x_train_uni[0].tolist()]\n",
    "X_train_ssa = pd.Series(x_train_uni_list, name=\"T (degC)\")\n",
    "print(X_train_ssa)\n",
    "x_val_uni_list = [x[0] for x in x_val_uni[0].tolist()]\n",
    "X_val_ssa = pd.Series(x_val_uni_list, name=\"T (degC)\")\n",
    "print(X_val_ssa)"
   ]
  },
  {
   "cell_type": "code",
   "execution_count": 50,
   "metadata": {},
   "outputs": [],
   "source": [
    "pipeline = Pipeline([\n",
    "    SsaForecaster(series_length=6,\n",
    "                  train_size=20,\n",
    "                  window_size=3,\n",
    "                  horizon=3,\n",
    "                  columns={'T (degC)_fc': 'T (degC)'})\n",
    "])"
   ]
  },
  {
   "cell_type": "code",
   "execution_count": 51,
   "metadata": {},
   "outputs": [
    {
     "name": "stdout",
     "output_type": "stream",
     "text": [
      "Elapsed time: 00:00:00.0358124\n",
      "0    -1.997663\n",
      "1    -2.042819\n",
      "2    -2.054397\n",
      "3    -2.031241\n",
      "4    -2.026609\n",
      "5    -2.001136\n",
      "6    -1.951349\n",
      "7    -1.951349\n",
      "8    -1.984927\n",
      "9    -2.045135\n",
      "10   -2.083344\n",
      "11   -2.097238\n",
      "12   -2.093764\n",
      "13   -2.091449\n",
      "14   -2.071765\n",
      "15   -2.071765\n",
      "16   -2.076397\n",
      "17   -2.089133\n",
      "18   -2.092606\n",
      "19   -2.104185\n",
      "Name: T (degC), dtype: float64\n"
     ]
    }
   ],
   "source": [
    "pipeline.fit(X_train_ssa)\n",
    "print(X_train_ssa)"
   ]
  },
  {
   "cell_type": "code",
   "execution_count": 52,
   "metadata": {
    "scrolled": false
   },
   "outputs": [
    {
     "data": {
      "image/png": "[encoded data removed]",
      "text/plain": [
       "<Figure size 432x288 with 1 Axes>"
      ]
     },
     "metadata": {
      "needs_background": "light"
     },
     "output_type": "display_data"
    },
    {
     "name": "stdout",
     "output_type": "stream",
     "text": [
      "\n",
      "[[0.642228  ]\n",
      " [0.63643877]\n",
      " [0.63643877]\n",
      " [0.63643877]\n",
      " [0.63643877]\n",
      " [0.63643877]\n",
      " [0.63643877]\n",
      " [0.63643877]\n",
      " [0.63180738]\n",
      " [0.62949169]\n",
      " [0.62949169]\n",
      " [0.62601815]\n",
      " [0.62138676]\n",
      " [0.61907107]\n",
      " [0.61328183]\n",
      " [0.6074926 ]\n",
      " [0.60633475]\n",
      " [0.60401906]\n",
      " [0.60054552]\n",
      " [0.60054552]] 0.5993876681669458 0.594385\n",
      "    T (degC)  T (degC)_fc.0  T (degC)_fc.1  T (degC)_fc.2\n",
      "0   0.642228       0.472256       0.746918       0.871203\n",
      "1   0.636439       1.459838       1.667968       1.755744\n",
      "2   0.636439       0.544804       0.499621       0.475559\n",
      "3   0.636439       0.631201       0.625596       0.619337\n",
      "4   0.636439       0.631012       0.625320       0.619021\n",
      "5   0.636439       0.631012       0.625320       0.619021\n",
      "6   0.636439       0.631012       0.625320       0.619021\n",
      "7   0.636439       0.631012       0.625320       0.619021\n",
      "8   0.631807       0.626728       0.620577       0.614092\n",
      "9   0.629492       0.622791       0.616526       0.610011\n",
      "10  0.629492       0.623532       0.617779       0.611496\n",
      "11  0.626018       0.620986       0.615048       0.608694\n",
      "12  0.621387       0.615281       0.608935       0.602425\n",
      "13  0.619071       0.612573       0.606454       0.600065\n",
      "14  0.613282       0.607845       0.601613       0.595199\n",
      "15  0.607493       0.600914       0.594410       0.587911\n",
      "16  0.606335       0.599572       0.593630       0.587399\n",
      "17  0.604019       0.598840       0.593179       0.587082\n",
      "18  0.600546       0.594950       0.589029       0.582834\n",
      "19  0.600546       0.594385       0.588760       0.582706\n"
     ]
    }
   ],
   "source": [
    "predicted_val_uni = pipeline.transform(X_val_ssa)\n",
    "predicted_val = predicted_val_uni['T (degC)_fc.0'][19]\n",
    "plot = show_plot([x_val_uni[0], y_val_uni[0], predicted_val], 0, 'Simple SSA Forecaster model')\n",
    "plot.show()\n",
    "print()\n",
    "print(x_val_uni[0], y_val_uni[0], predicted_val)\n",
    "print(predicted_val_uni)"
   ]
  },
  {
   "cell_type": "code",
   "execution_count": null,
   "metadata": {
    "scrolled": true
   },
   "outputs": [],
   "source": [
    "pipeline.predict()\n",
    "pd.set_option('display.float_format', lambda x: '%.2f' % x)\n",
    "print(result)"
   ]
  },
  {
   "cell_type": "code",
   "execution_count": null,
   "metadata": {},
   "outputs": [],
   "source": []
  }
 ],
 "metadata": {
  "kernelspec": {
   "display_name": "Python 3",
   "language": "python",
   "name": "python3"
  },
  "language_info": {
   "codemirror_mode": {
    "name": "ipython",
    "version": 3
   },
   "file_extension": ".py",
   "mimetype": "text/x-python",
   "name": "python",
   "nbconvert_exporter": "python",
   "pygments_lexer": "ipython3",
   "version": "3.7.4"
  }
 },
 "nbformat": 4,
 "nbformat_minor": 2
}
